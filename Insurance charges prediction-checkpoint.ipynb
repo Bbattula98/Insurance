{
 "cells": [
  {
   "cell_type": "code",
   "execution_count": 122,
   "id": "94d6fa0a",
   "metadata": {
    "tags": []
   },
   "outputs": [
    {
     "name": "stdout",
     "output_type": "stream",
     "text": [
      "Requirement already satisfied: xgboost in c:\\users\\bhara\\anaconda3\\lib\\site-packages (2.1.1)\n",
      "Requirement already satisfied: numpy in c:\\users\\bhara\\anaconda3\\lib\\site-packages (from xgboost) (1.26.4)\n",
      "Requirement already satisfied: scipy in c:\\users\\bhara\\anaconda3\\lib\\site-packages (from xgboost) (1.11.4)\n"
     ]
    },
    {
     "ename": "NameError",
     "evalue": "name 'model' is not defined",
     "output_type": "error",
     "traceback": [
      "\u001b[1;31m---------------------------------------------------------------------------\u001b[0m",
      "\u001b[1;31mNameError\u001b[0m                                 Traceback (most recent call last)",
      "Cell \u001b[1;32mIn[122], line 13\u001b[0m\n\u001b[0;32m     11\u001b[0m \u001b[38;5;28;01mfrom\u001b[39;00m \u001b[38;5;21;01msklearn\u001b[39;00m\u001b[38;5;21;01m.\u001b[39;00m\u001b[38;5;21;01mlinear_model\u001b[39;00m \u001b[38;5;28;01mimport\u001b[39;00m LinearRegression\n\u001b[0;32m     12\u001b[0m get_ipython()\u001b[38;5;241m.\u001b[39msystem(\u001b[38;5;124m'\u001b[39m\u001b[38;5;124mpip install xgboost\u001b[39m\u001b[38;5;124m'\u001b[39m)\n\u001b[1;32m---> 13\u001b[0m xgboost_pred \u001b[38;5;241m=\u001b[39m model\u001b[38;5;241m.\u001b[39mpredict(data)\n\u001b[0;32m     14\u001b[0m \u001b[38;5;28mprint\u001b[39m(xgboost_pred)\n",
      "\u001b[1;31mNameError\u001b[0m: name 'model' is not defined"
     ]
    }
   ],
   "source": [
    "#import the standard libraries\n",
    "import pandas as pd\n",
    "import numpy as np\n",
    "import matplotlib.pyplot as plt\n",
    "import seaborn as sns\n",
    "import plotly.express as px\n",
    "import warnings\n",
    "warnings.filterwarnings(\"ignore\")\n",
    "%matplotlib inline\n",
    "from sklearn.model_selection import train_test_split\n",
    "from sklearn.linear_model import LinearRegression\n",
    "!pip install xgboost\n"
   ]
  },
  {
   "cell_type": "code",
   "execution_count": null,
   "id": "f34c35e1",
   "metadata": {
    "tags": []
   },
   "outputs": [],
   "source": [
    "#Read the data\n",
    "data=pd.read_csv(r\"C:\\Users\\bhara\\Downloads\\insurance.csv\")\n",
    "#Print the first five rows\n",
    "#data.head().style.background_gradient(cmap='Reds')\n",
    "data.head()"
   ]
  },
  {
   "cell_type": "code",
   "execution_count": null,
   "id": "db0412a0",
   "metadata": {
    "tags": []
   },
   "outputs": [],
   "source": [
    "#data information\n",
    "data.info()"
   ]
  },
  {
   "cell_type": "code",
   "execution_count": null,
   "id": "7304c34b",
   "metadata": {
    "tags": []
   },
   "outputs": [],
   "source": [
    "#Let's print the stastics the data\n",
    "data.describe().style.background_gradient(cmap='terrain_r')"
   ]
  },
  {
   "cell_type": "code",
   "execution_count": null,
   "id": "b4607804",
   "metadata": {
    "tags": []
   },
   "outputs": [],
   "source": [
    "#Let's check the null values to the data\n",
    "data.isna().sum() "
   ]
  },
  {
   "cell_type": "code",
   "execution_count": null,
   "id": "7ac06218",
   "metadata": {
    "tags": []
   },
   "outputs": [],
   "source": [
    "data.rename(columns={'expenses':'charges'},inplace=True)"
   ]
  },
  {
   "cell_type": "code",
   "execution_count": null,
   "id": "1b478e91-f892-4b6a-95b7-93e26dc10989",
   "metadata": {
    "tags": []
   },
   "outputs": [],
   "source": [
    "data.head()"
   ]
  },
  {
   "cell_type": "code",
   "execution_count": null,
   "id": "70033d0b",
   "metadata": {
    "tags": []
   },
   "outputs": [],
   "source": [
    "#Let's visualize the correlation matrics\n",
    "sns.heatmap(data.corr(),annot=True,cmap='jet')\n",
    "plt.title(\"The correaltion matrics\",fontsize=30)\n",
    "plt.show()"
   ]
  },
  {
   "cell_type": "markdown",
   "id": "75dc5e76",
   "metadata": {},
   "source": [
    "# Explore data analysis"
   ]
  },
  {
   "cell_type": "code",
   "execution_count": null,
   "id": "8a5223e8",
   "metadata": {},
   "outputs": [],
   "source": [
    "ax=plt.axes()\n",
    "#Let's intitalize background color\n",
    "ax.set(facecolor='green')\n",
    "#Set the figsize with styles\n",
    "sns.set(rc={'figure.figsize':(20,13)},style='dark')\n",
    "#Set the title \n",
    "ax.set_title(\"The ages in the dataset\",fontsize=35,fontweight='bold')\n",
    "#Using the cout plot and visualiz the differnet ages\n",
    "sns.countplot(data['age'])\n",
    "#On the x-axis Ages\n",
    "plt.xlabel(\"Ages\")\n",
    "#On y-axis the values count\n",
    "plt.ylabel(\"Count\")\n",
    "#Let's visualize the plot\n",
    "plt.show()"
   ]
  },
  {
   "cell_type": "code",
   "execution_count": null,
   "id": "e39e2f00",
   "metadata": {
    "tags": []
   },
   "outputs": [],
   "source": [
    "#Let's visualize the charges of the dataset\n",
    "ax=plt.axes()\n",
    "#Let's intitalize background color\n",
    "ax.set(facecolor='red')\n",
    "#Set the figsize with styles\n",
    "sns.set(rc={'figure.figsize':(16,8)},style='dark')\n",
    "#Set the title \n",
    "ax.set_title(\"The Charges distribution\",fontsize=35,fontweight='bold')\n",
    "#Using the cout plot and visualize the charges\n",
    "sns.distplot(data['charges'],color='blue',hist=True)\n",
    "#On the x-axis charges\n",
    "plt.xlabel(\"Charges\")\n",
    "#On y-axis the values count\n",
    "plt.ylabel(\"Count\")\n",
    "#Let's visualize the plot\n",
    "plt.show()"
   ]
  },
  {
   "cell_type": "code",
   "execution_count": null,
   "id": "05fb2966",
   "metadata": {
    "tags": []
   },
   "outputs": [],
   "source": [
    "#Let's visualize the bmi of the dataset\n",
    "ax=plt.axes()\n",
    "#Let's intitalize background color\n",
    "ax.set(facecolor='yellow')\n",
    "#Set the figsize with styles\n",
    "sns.set(rc={'figure.figsize':(16,8)},style='dark')\n",
    "#Set the title \n",
    "ax.set_title(\"The Bmi distibution\",fontsize=35,fontweight='bold')\n",
    "#Using the cout plot and visualize the charges\n",
    "sns.distplot(data['bmi'],color='blue',hist=True,vertical=False,norm_hist=True)\n",
    "#On the x-axis charges\n",
    "plt.xlabel(\"bmi\")\n",
    "#On y-axis the values count\n",
    "plt.ylabel(\"Count\")\n",
    "#Let's visualize the plot\n",
    "plt.show()"
   ]
  },
  {
   "cell_type": "code",
   "execution_count": null,
   "id": "e07b4c64",
   "metadata": {
    "tags": []
   },
   "outputs": [],
   "source": [
    "#Let's check the which age persons have the most children\n",
    "children=data.groupby(['children','age']).size().reset_index().rename(columns={0:'Children_with_ages'}).sort_values(by='children',ascending=False)\n",
    "children.head(10)"
   ]
  },
  {
   "cell_type": "code",
   "execution_count": null,
   "id": "f0ea2e74",
   "metadata": {
    "tags": []
   },
   "outputs": [],
   "source": [
    "#So let's visualize the above data using the plotly \n",
    "fig=px.histogram(children,color='children',x='age',title=\"Let's visualize the which age persons have most children\")\n",
    "fig.update_layout(bargap=0.5,plot_bgcolor='gray',template = \"plotly_dark\",)\n",
    "fig.show()"
   ]
  },
  {
   "cell_type": "markdown",
   "id": "5228becf",
   "metadata": {},
   "source": [
    "# Observation\n",
    "1.From the above data we observe the the age between 15-19 and 50-54 ages persons have 5 children"
   ]
  },
  {
   "cell_type": "code",
   "execution_count": null,
   "id": "f583f60d",
   "metadata": {
    "tags": []
   },
   "outputs": [],
   "source": [
    "#Let's find the gender ratio on the dataset using the pie chart\n",
    "gender=data['sex'].value_counts()\n",
    "#Let's visualize the above data using the pie chart\n",
    "gender.plot(kind='pie',autopct='%1.2f%%',colors=['yellow','blue'],explode=[0.05,0.08])\n",
    "#Set the title fontsize and fontweights\n",
    "plt.title(\"The Gender ration in the dataset\",fontsize=35,fontweight='bold')\n",
    "#let's visualize the plot\n",
    "plt.show()"
   ]
  },
  {
   "cell_type": "code",
   "execution_count": null,
   "id": "13b65933",
   "metadata": {
    "tags": []
   },
   "outputs": [],
   "source": [
    "#Visualize the above information with plotly\n",
    "fig=px.pie(data,names='sex',title=\"The gender percentage in the dataset\")\n",
    "fig.update_traces(textposition='inside')\n",
    "fig.update_layout(uniformtext_minsize=12, uniformtext_mode='hide')\n",
    "fig.show()"
   ]
  },
  {
   "cell_type": "markdown",
   "id": "af3fce6e",
   "metadata": {},
   "source": [
    "# Observation\n",
    "1.From the above data male percentage is high comapre to the female percentage"
   ]
  },
  {
   "cell_type": "code",
   "execution_count": null,
   "id": "2a772439",
   "metadata": {
    "tags": []
   },
   "outputs": [],
   "source": [
    "#Alnog with let's visualize the smoke ratio in the dataset\n",
    "smoker=data['smoker'].value_counts()\n",
    "#Let's visualize the above data using the pie chart\n",
    "smoker.plot(kind='pie',autopct='%1.2f%%',colors=['green','red'],explode=[0.04,0.07])\n",
    "#Set the title\n",
    "plt.title(\"The smoker ratio in the dataset\",fontsize=35,fontweight='bold')\n",
    "plt.show()"
   ]
  },
  {
   "cell_type": "markdown",
   "id": "e9ad6d63",
   "metadata": {},
   "source": [
    "# Observation\n",
    "1.From the data the non-smoker percentage is more compare to the smokers"
   ]
  },
  {
   "cell_type": "code",
   "execution_count": null,
   "id": "0450bbad",
   "metadata": {
    "tags": []
   },
   "outputs": [],
   "source": [
    "#Let's visualize the which age gender have in the dataset\n",
    "gender=data.groupby(['age','sex']).size().reset_index().rename(columns={0:'age_gender'}).sort_values(by='age',ascending=False)\n",
    "gender.head()"
   ]
  },
  {
   "cell_type": "code",
   "execution_count": null,
   "id": "9acd4cab",
   "metadata": {
    "tags": []
   },
   "outputs": [],
   "source": [
    "#Let's visualize the above data using the plotly\n",
    "fig=px.histogram(gender,color='sex',x='age',y='age_gender',title=\"Let's visualize the which age and gender \")\n",
    "fig.update_layout(bargap=0.5,plot_bgcolor='lightgreen',template = \"plotly\")\n",
    "fig.show()"
   ]
  },
  {
   "cell_type": "markdown",
   "id": "87c58b69",
   "metadata": {},
   "source": [
    "# Observations\n",
    "1)From the above data age 20-24 and 45-49 is the male persons datasets.\n",
    "2)According to the data 40-49 and 50-55 ages female have the highest in the dataset"
   ]
  },
  {
   "cell_type": "code",
   "execution_count": null,
   "id": "5c9897e0",
   "metadata": {
    "tags": []
   },
   "outputs": [],
   "source": [
    "#Let's find the region ratio on the dataset using the pie chart\n",
    "gender=data['region'].value_counts()\n",
    "#Let's visualize the above data using the pie chart\n",
    "gender.plot(kind='pie',autopct='%1.2f%%',colors=['grey','orange','red','maroon'],explode=[0.03,0.05,0.07,0.09])\n",
    "#Set the title fontsize and fontweights\n",
    "plt.title(\"The region ration in the dataset\",fontsize=35,fontweight='bold')\n",
    "#let's visualize the plot\n",
    "plt.show()"
   ]
  },
  {
   "cell_type": "markdown",
   "id": "b8246457",
   "metadata": {},
   "source": [
    "# Observation\n",
    "1)Analysis the data the southeast region is hieghst range"
   ]
  },
  {
   "cell_type": "code",
   "execution_count": null,
   "id": "e87a7ddd",
   "metadata": {
    "tags": []
   },
   "outputs": [],
   "source": [
    "#Analysis the data and visualize the which age persons is most smoker\n",
    "smoker=data.groupby(['age','smoker']).size().reset_index().rename(columns={0:'age_smoker'}).sort_values(by='age',ascending=False)\n",
    "smoker.head()"
   ]
  },
  {
   "cell_type": "code",
   "execution_count": null,
   "id": "c5ed4e12",
   "metadata": {
    "tags": []
   },
   "outputs": [],
   "source": [
    "#To visualize the above data using the using the plotly\n",
    "fig=px.histogram(smoker,x='age',color='smoker',y='age_smoker',title=\"Let's visualize the  which age pepole have most smokers \")\n",
    "fig.update_layout(bargap=0.5,plot_bgcolor='orange',template = \"plotly_dark\")\n",
    "fig.show()"
   ]
  },
  {
   "cell_type": "markdown",
   "id": "f3275e42",
   "metadata": {},
   "source": [
    "# Observations:\n",
    "1) After analysis the data the most smoker age between the 40-45\n",
    "2) At the age 50-54 age people most non smokers"
   ]
  },
  {
   "cell_type": "code",
   "execution_count": null,
   "id": "e876a2d9",
   "metadata": {
    "tags": []
   },
   "outputs": [],
   "source": [
    "#Analysis the data which gender is smoker is more in the data\n",
    "gender=data.groupby(['sex','smoker']).size().reset_index().rename(columns={0:'gender_smoker'})\n",
    "gender.head()"
   ]
  },
  {
   "cell_type": "code",
   "execution_count": null,
   "id": "b1220d91",
   "metadata": {
    "tags": []
   },
   "outputs": [],
   "source": [
    "#To analysis the data and visualize the some data points using the plotly bargraph\n",
    "fig=px.histogram(gender,y='gender_smoker',color='smoker',x='sex',title=\"Let's visualize the which gender is smoker\")\n",
    "fig.update_layout(bargap=0.5,plot_bgcolor='gray',template = \"plotly_dark\")\n",
    "fig.show()"
   ]
  },
  {
   "cell_type": "markdown",
   "id": "d96f77f8",
   "metadata": {},
   "source": [
    "# Observations:\n",
    "1)To analysis the above data male gender is more smoker\n",
    "2)And The non-smoker female gender si more"
   ]
  },
  {
   "cell_type": "code",
   "execution_count": null,
   "id": "705142d7",
   "metadata": {
    "tags": []
   },
   "outputs": [],
   "source": [
    "# To analysis the data which region peopel is more smoker\n",
    "region=data.groupby(['region','smoker']).size().reset_index().rename(columns={0:'region_smoker'}).sort_values(by='region_smoker',ascending=False)\n",
    "region.head()"
   ]
  },
  {
   "cell_type": "code",
   "execution_count": null,
   "id": "38d562c9",
   "metadata": {
    "tags": []
   },
   "outputs": [],
   "source": [
    "#To analysis the data and visualize the some data points using the plotly bargraph\n",
    "fig=px.histogram(region,y='region_smoker',color='smoker',x='region',title=\"Let's visualize the which region is most smoker\")\n",
    "fig.update_layout(bargap=0.5,plot_bgcolor='pink',template = \"plotly_dark\")\n",
    "fig.show()"
   ]
  },
  {
   "cell_type": "markdown",
   "id": "47ba1a7a",
   "metadata": {},
   "source": [
    "# Observation\n",
    "1)Analysis the data the most smoker is region is southeast after that northeast\n",
    "2)Same as non-smoker region is southeast"
   ]
  },
  {
   "cell_type": "code",
   "execution_count": null,
   "id": "27708104",
   "metadata": {
    "tags": []
   },
   "outputs": [],
   "source": [
    "#To visualize the which region people have more children by using the above data\n",
    "region=data.groupby(['region','children']).size().reset_index().rename(columns={0:'region_wise_children'}).sort_values(by='children',ascending=False)\n",
    "region.head()"
   ]
  },
  {
   "cell_type": "code",
   "execution_count": null,
   "id": "d1c3e62b",
   "metadata": {
    "tags": []
   },
   "outputs": [],
   "source": [
    "# To visualize the above information using the plotly \n",
    "fig=px.histogram(region,y='region_wise_children',color='children',x='region',title=\"Let's visualize the which region people have the most region\")\n",
    "fig.update_layout(bargap=0.5,plot_bgcolor='grey',template = \"plotly_dark\")\n",
    "fig.show()"
   ]
  },
  {
   "cell_type": "markdown",
   "id": "9f3bd3db",
   "metadata": {},
   "source": [
    "# # Observation:"
   ]
  },
  {
   "cell_type": "raw",
   "id": "0b1325f7",
   "metadata": {},
   "source": [
    "\n",
    "1) From the above data southwest region 5 childrens comapare to the other reagion.\n",
    "2) Coming to the 4 children's are see the southwest and northeast.\n",
    "3) Coming to the 4 childrean's are see the northwest."
   ]
  },
  {
   "cell_type": "code",
   "execution_count": null,
   "id": "5190105b",
   "metadata": {
    "tags": []
   },
   "outputs": [],
   "source": [
    "#Analysis the data which gender is most is the body mass index\n",
    "bmi=data.groupby(['sex','bmi']).size().reset_index().rename(columns={0:'gender_bmi'}).sort_values(by='bmi',ascending=False)\n",
    "bmi.head()"
   ]
  },
  {
   "cell_type": "code",
   "execution_count": null,
   "id": "dd8653f2",
   "metadata": {
    "tags": []
   },
   "outputs": [],
   "source": [
    "#To visualize the above data using the plotly and see the bmi per genders\n",
    "fig=px.histogram(bmi,color='sex',x='bmi',title=\"Let's visualize the gender with body mass index\",histnorm='probability')\n",
    "fig.update_layout(bargap=0.5,plot_bgcolor='yellow',template = \"plotly_dark\",paper_bgcolor='green')\n",
    "fig.show()"
   ]
  },
  {
   "cell_type": "markdown",
   "id": "8813a525",
   "metadata": {},
   "source": [
    "# Analysis"
   ]
  },
  {
   "cell_type": "raw",
   "id": "d5b1db7c",
   "metadata": {},
   "source": [
    "1) To Analysis the data for male gender the highest repeat  bmi is range 30\n",
    "2) Coming to the feamle the high repeat the bmi is range 28"
   ]
  },
  {
   "cell_type": "markdown",
   "id": "5870705c",
   "metadata": {},
   "source": [
    "# Model buliding Process"
   ]
  },
  {
   "cell_type": "code",
   "execution_count": 123,
   "id": "71a01076",
   "metadata": {
    "tags": []
   },
   "outputs": [],
   "source": [
    "#Let's convert the categorical data to numerical data using the labelencoder \n",
    "#import the labelencoder using the sklearn\n",
    "from sklearn.preprocessing import LabelEncoder,StandardScaler\n",
    "#intialize the labbel encoder with variabel\n",
    "label=LabelEncoder()\n",
    "scaler=StandardScaler()\n",
    "#Let's check the mean_squred_errot and r2 score\n",
    "from sklearn.metrics import mean_squared_error,r2_score"
   ]
  },
  {
   "cell_type": "code",
   "execution_count": 124,
   "id": "b4a42a2a",
   "metadata": {
    "tags": []
   },
   "outputs": [
    {
     "data": {
      "text/plain": [
       "Index(['age', 'sex', 'bmi', 'children', 'smoker', 'region', 'charges'], dtype='object')"
      ]
     },
     "execution_count": 124,
     "metadata": {},
     "output_type": "execute_result"
    }
   ],
   "source": [
    "#Print the columns in the dataset\n",
    "data.columns"
   ]
  },
  {
   "cell_type": "code",
   "execution_count": 125,
   "id": "0f687664",
   "metadata": {
    "tags": []
   },
   "outputs": [],
   "source": [
    "#Let's use the label encoder\n",
    "data['sex']=label.fit_transform(data['sex'])\n",
    "data['smoker']=label.fit_transform(data['smoker'])\n",
    "data['region']=label.fit_transform(data['region'])"
   ]
  },
  {
   "cell_type": "code",
   "execution_count": 126,
   "id": "166c6f29",
   "metadata": {
    "tags": []
   },
   "outputs": [],
   "source": [
    "data.to_csv('cleand_data.csv')"
   ]
  },
  {
   "cell_type": "code",
   "execution_count": 127,
   "id": "0a75cf26",
   "metadata": {
    "tags": []
   },
   "outputs": [],
   "source": [
    "#Let's divided the data into traing and testing\n",
    "X=data.drop(['charges'],axis=1)\n",
    "y=data['charges']"
   ]
  },
  {
   "cell_type": "code",
   "execution_count": 128,
   "id": "0fe7034d",
   "metadata": {
    "tags": []
   },
   "outputs": [],
   "source": [
    "#Using the 30% from the test data\n",
    "X_train,X_test,y_train,y_test=train_test_split(X,y,test_size=0.25,random_state=120)\n",
    "#fit the data into scaler format\n",
    "X_train=scaler.fit_transform(X_train)\n",
    "X_test=scaler.fit_transform(X_test)"
   ]
  },
  {
   "cell_type": "code",
   "execution_count": 129,
   "id": "2bccf76a",
   "metadata": {
    "tags": []
   },
   "outputs": [],
   "source": [
    "#dump the file\n",
    "import pickle\n",
    "pickle.dump(scaler,open('scaler.pkl','wb'))"
   ]
  },
  {
   "cell_type": "code",
   "execution_count": 130,
   "id": "f194a1d2",
   "metadata": {
    "tags": []
   },
   "outputs": [
    {
     "data": {
      "text/html": [
       "<style>#sk-container-id-6 {color: black;background-color: white;}#sk-container-id-6 pre{padding: 0;}#sk-container-id-6 div.sk-toggleable {background-color: white;}#sk-container-id-6 label.sk-toggleable__label {cursor: pointer;display: block;width: 100%;margin-bottom: 0;padding: 0.3em;box-sizing: border-box;text-align: center;}#sk-container-id-6 label.sk-toggleable__label-arrow:before {content: \"▸\";float: left;margin-right: 0.25em;color: #696969;}#sk-container-id-6 label.sk-toggleable__label-arrow:hover:before {color: black;}#sk-container-id-6 div.sk-estimator:hover label.sk-toggleable__label-arrow:before {color: black;}#sk-container-id-6 div.sk-toggleable__content {max-height: 0;max-width: 0;overflow: hidden;text-align: left;background-color: #f0f8ff;}#sk-container-id-6 div.sk-toggleable__content pre {margin: 0.2em;color: black;border-radius: 0.25em;background-color: #f0f8ff;}#sk-container-id-6 input.sk-toggleable__control:checked~div.sk-toggleable__content {max-height: 200px;max-width: 100%;overflow: auto;}#sk-container-id-6 input.sk-toggleable__control:checked~label.sk-toggleable__label-arrow:before {content: \"▾\";}#sk-container-id-6 div.sk-estimator input.sk-toggleable__control:checked~label.sk-toggleable__label {background-color: #d4ebff;}#sk-container-id-6 div.sk-label input.sk-toggleable__control:checked~label.sk-toggleable__label {background-color: #d4ebff;}#sk-container-id-6 input.sk-hidden--visually {border: 0;clip: rect(1px 1px 1px 1px);clip: rect(1px, 1px, 1px, 1px);height: 1px;margin: -1px;overflow: hidden;padding: 0;position: absolute;width: 1px;}#sk-container-id-6 div.sk-estimator {font-family: monospace;background-color: #f0f8ff;border: 1px dotted black;border-radius: 0.25em;box-sizing: border-box;margin-bottom: 0.5em;}#sk-container-id-6 div.sk-estimator:hover {background-color: #d4ebff;}#sk-container-id-6 div.sk-parallel-item::after {content: \"\";width: 100%;border-bottom: 1px solid gray;flex-grow: 1;}#sk-container-id-6 div.sk-label:hover label.sk-toggleable__label {background-color: #d4ebff;}#sk-container-id-6 div.sk-serial::before {content: \"\";position: absolute;border-left: 1px solid gray;box-sizing: border-box;top: 0;bottom: 0;left: 50%;z-index: 0;}#sk-container-id-6 div.sk-serial {display: flex;flex-direction: column;align-items: center;background-color: white;padding-right: 0.2em;padding-left: 0.2em;position: relative;}#sk-container-id-6 div.sk-item {position: relative;z-index: 1;}#sk-container-id-6 div.sk-parallel {display: flex;align-items: stretch;justify-content: center;background-color: white;position: relative;}#sk-container-id-6 div.sk-item::before, #sk-container-id-6 div.sk-parallel-item::before {content: \"\";position: absolute;border-left: 1px solid gray;box-sizing: border-box;top: 0;bottom: 0;left: 50%;z-index: -1;}#sk-container-id-6 div.sk-parallel-item {display: flex;flex-direction: column;z-index: 1;position: relative;background-color: white;}#sk-container-id-6 div.sk-parallel-item:first-child::after {align-self: flex-end;width: 50%;}#sk-container-id-6 div.sk-parallel-item:last-child::after {align-self: flex-start;width: 50%;}#sk-container-id-6 div.sk-parallel-item:only-child::after {width: 0;}#sk-container-id-6 div.sk-dashed-wrapped {border: 1px dashed gray;margin: 0 0.4em 0.5em 0.4em;box-sizing: border-box;padding-bottom: 0.4em;background-color: white;}#sk-container-id-6 div.sk-label label {font-family: monospace;font-weight: bold;display: inline-block;line-height: 1.2em;}#sk-container-id-6 div.sk-label-container {text-align: center;}#sk-container-id-6 div.sk-container {/* jupyter's `normalize.less` sets `[hidden] { display: none; }` but bootstrap.min.css set `[hidden] { display: none !important; }` so we also need the `!important` here to be able to override the default hidden behavior on the sphinx rendered scikit-learn.org. See: https://github.com/scikit-learn/scikit-learn/issues/21755 */display: inline-block !important;position: relative;}#sk-container-id-6 div.sk-text-repr-fallback {display: none;}</style><div id=\"sk-container-id-6\" class=\"sk-top-container\"><div class=\"sk-text-repr-fallback\"><pre>LinearRegression(fit_intercept=False, n_jobs=10)</pre><b>In a Jupyter environment, please rerun this cell to show the HTML representation or trust the notebook. <br />On GitHub, the HTML representation is unable to render, please try loading this page with nbviewer.org.</b></div><div class=\"sk-container\" hidden><div class=\"sk-item\"><div class=\"sk-estimator sk-toggleable\"><input class=\"sk-toggleable__control sk-hidden--visually\" id=\"sk-estimator-id-6\" type=\"checkbox\" checked><label for=\"sk-estimator-id-6\" class=\"sk-toggleable__label sk-toggleable__label-arrow\">LinearRegression</label><div class=\"sk-toggleable__content\"><pre>LinearRegression(fit_intercept=False, n_jobs=10)</pre></div></div></div></div></div>"
      ],
      "text/plain": [
       "LinearRegression(fit_intercept=False, n_jobs=10)"
      ]
     },
     "execution_count": 130,
     "metadata": {},
     "output_type": "execute_result"
    }
   ],
   "source": [
    "#intialize the LinearRegression \n",
    "linear=LinearRegression(fit_intercept=False,\n",
    "    copy_X=True,\n",
    "    n_jobs=10)\n",
    "#Fit the data to the model\n",
    "linear.fit(X_train,y_train)"
   ]
  },
  {
   "cell_type": "code",
   "execution_count": 131,
   "id": "c443f756",
   "metadata": {
    "tags": []
   },
   "outputs": [
    {
     "data": {
      "text/plain": [
       "array([ -3938.46271287,  22964.15900149,  -5228.60029579,   4011.51073778,\n",
       "        -9125.47935594,  -1479.27521121,   -388.15288277,  18780.72323302,\n",
       "        -9137.93936734,  -3712.16048556,  11418.38457855,  -2384.16183047,\n",
       "        -7133.52857875,  -4671.74645562,  26979.00116827,  -3150.06892759,\n",
       "         3262.91503401, -11719.25848116,  -4825.39385153,  -9363.07591782,\n",
       "        -8742.10772622,  -5744.09384167,  -8978.32247911,  -6802.90004153,\n",
       "        -4427.77452537,  -6778.58291754,    -41.96822611,    546.64470217,\n",
       "        -1083.35864481,  -3785.32480443,  13876.18191717,    833.792638  ,\n",
       "        14771.80562207,  23704.17905218, -11013.7138689 ,  -3982.19228835,\n",
       "        -8902.77252406,  -2231.69879753,    455.75915227,  15369.44501597,\n",
       "        -4446.83757658,  -5322.0333315 ,  -4717.29174241,   1104.40689102,\n",
       "       -11050.61987998,  -5583.4455308 ,  18280.49684368,  -7279.26684303,\n",
       "          406.79504421,  -4490.98632986, -12231.1731186 ,  -3654.42064844,\n",
       "        -8574.03209807,  -9701.14727323,  -5824.38002796,  -6259.56693897,\n",
       "          663.85734813,  -1130.38298154,  19576.49854504,  19706.43171578,\n",
       "       -13060.51736047,  -3612.24847004,  -1596.50654332,  15028.7470512 ,\n",
       "        -7489.91252471,  -6336.57562737,   3013.72101887,  -5417.79071195,\n",
       "          636.62288945,   -390.30645507,  -4190.56748457,  -4612.22693437,\n",
       "        -4866.79426661,  21764.50986972, -12186.67659548,  -7665.1294828 ,\n",
       "        -3452.41105723,  27132.92952617,  26923.39799323,  -5779.54125141,\n",
       "        -8448.03976142,  17926.17758311,  -6293.90196241,   -334.70328003,\n",
       "        -2243.29539674,    389.88471124,  -4191.4348584 ,   2363.55905706,\n",
       "        -1713.61381541,  -1455.80501245,  -5206.68529495, -13082.02648526,\n",
       "        -8118.20662134, -14050.63397324,  16557.384597  ,  -5729.40828129,\n",
       "          823.51422516, -11920.230848  ,  -5357.80169202,  -6126.23221032,\n",
       "        -4637.99784402, -14350.93194375,    220.04588594,  -3553.55633382,\n",
       "        18310.18056116,  -6316.46381248,   -486.00021289, -12280.27368001,\n",
       "         3250.6355584 ,  13668.32469449,  -1920.90507484,  -4399.25209228,\n",
       "        -8209.45091164,  -2984.11842223,  -3998.48018231,  19024.86678975,\n",
       "       -11113.09990996, -14303.84794601,   -888.71670987,  -2430.54604157,\n",
       "        17731.15822163,  17442.08700144,  20394.51561041,  -2785.34634011,\n",
       "       -10194.02249328,  -2484.85233291,  -7167.58264021,  -7189.28865575,\n",
       "        -4176.03882615,  -4162.42643966,  -2707.63608915,  -6408.8841117 ,\n",
       "         3022.10459687,   1350.13310912,   1611.54530841,  -5441.32934901,\n",
       "        -4256.49082371,  -3444.68727706,    237.0166563 ,    737.48401883,\n",
       "        17829.95785085,  -5746.37905166,   -457.98012043,  -7151.23827049,\n",
       "        -9397.75637993, -11702.80653839,   -488.06489829,  16518.43520317,\n",
       "        14651.4004035 , -14509.72059289,  -5376.88604588,  -1535.93111154,\n",
       "        -8809.27905095,  -4656.04497351,  -3117.51358828,    261.23731572,\n",
       "       -12816.40897686,  -2623.64926557,  19558.37625364,  18456.10417691,\n",
       "        -3721.08072324,  19758.70177123,   -368.26739422,  -7519.18541846,\n",
       "       -10482.56377738, -13334.06763433,  -2961.86598365,    613.99741675,\n",
       "        -7650.82134897,  -1033.91031355,  -6281.72291299,  -7722.82933113,\n",
       "         1729.25944094,  -6663.85732   ,  -8652.55904883,    120.52424557,\n",
       "        -4969.97974072,  -4874.94755666,  -4486.93792272,  -6085.44184091,\n",
       "        21912.37325679,  -7001.245799  ,    400.99136317,  -3514.48606521,\n",
       "        -6933.36314835,   3221.31772817,  -2765.58491157,  23436.58178367,\n",
       "        -8729.50015298,  -1927.94201697,  -9901.83867808,   2018.02124964,\n",
       "          345.22732454,  22610.35099085,  -8273.45316559,  -5606.5898311 ,\n",
       "         2859.06570214,  -7330.88204833,  -5428.51993732,  -3361.83095719,\n",
       "        -1822.78832203,    632.13343314,  -7106.33587131,    242.10228783,\n",
       "       -10696.90351823,  14722.11864881,  -4371.63702182,    786.91366394,\n",
       "       -10312.13854024,  -4485.28626024,  -3519.18132158,  18736.47086832,\n",
       "         4763.46801065,  -6824.65099355, -11150.4919067 , -12611.38820289,\n",
       "         -843.59697134,  -9087.76640843,  24570.45293898,   2215.19418342,\n",
       "          782.72385575,   2061.22088905,  -2243.88180858,    271.05423079,\n",
       "        -9822.13890364,  19588.86294593,  16826.30005187, -14649.75164069,\n",
       "         1730.43226463,  -7696.61242462,  14042.73928297,  -9542.47872248,\n",
       "        -6881.70795426, -11078.66446033,  18907.63941927,  -1429.32277688,\n",
       "        14268.77923444,   -988.62872538,  -6875.13336395,  22547.32368377,\n",
       "        14765.35509179,   1046.11581517,  -4189.94108393,  -5290.12802666,\n",
       "        -1579.93450215,  -6567.23171168, -10630.80855262,  -8043.21944431,\n",
       "         4525.62565991,  12054.71285289,  14678.27216016,  -7742.2181488 ,\n",
       "        -5478.81695626,  -1178.65134225, -11254.30378145,   2598.36397471,\n",
       "        -5777.66191748,  -9566.11297005,  -8675.21254779,  29006.78074337,\n",
       "        17242.65334556,  28054.03163945,    -30.19603881,  24211.55929682,\n",
       "        15731.15061895,    705.67517855,  -1658.90250207,    411.26581438,\n",
       "        -2915.58892234,  13286.22631464,   -713.60017797,  -3335.88623536,\n",
       "        -8705.08161674,  -7366.30978586,   3583.4007577 ,   2643.3041635 ,\n",
       "        22461.26106631,  -6773.88766117,  -4537.48391575,  -5326.62420007,\n",
       "        -2079.94709052,  -4903.7002777 ,    528.21299928, -12496.79062699,\n",
       "        -7046.73142479,  -9535.03590429,   3719.93696826,   -419.59583579,\n",
       "         1504.9582764 ,  25181.18270653,  -3745.05722424,  -1206.16994814,\n",
       "        16026.26649336,  -5773.63219649, -10161.40671657,  23107.16605893,\n",
       "        -2937.19451169,  28005.43341866,   1379.12998857,   2012.63816916,\n",
       "        24257.01965833,  15074.1722396 ,    715.63264062,  -1223.71559107,\n",
       "        -7391.73929614,  13721.73912411,  -8993.52247466,  -8192.78559114,\n",
       "        14930.89972109,  -1543.28900445,  -2498.48912962,  -1014.72553349,\n",
       "       -10169.49638399,  -9536.1238027 ,  -3613.78718099,  14710.582487  ,\n",
       "        -2281.22886884,  -8824.98053306,  26532.78043608,  23048.12452242,\n",
       "       -11120.32220356,   1782.61343317, -12707.11041021,  -3954.22781761,\n",
       "        -6983.80552996,  -7316.45381609, -11158.05878491,  -2992.35663756,\n",
       "        22252.60886973, -10274.7465435 ,  -7218.97237324, -11663.59486873,\n",
       "          254.64142276,  17690.42432799,    877.85965123])"
      ]
     },
     "execution_count": 131,
     "metadata": {},
     "output_type": "execute_result"
    }
   ],
   "source": [
    "#To predict the predictoions from the linearregression\n",
    "y_pred=linear.predict(X_test)\n",
    "#prediction\n",
    "y_pred"
   ]
  },
  {
   "cell_type": "code",
   "execution_count": 132,
   "id": "cc8cb0b7",
   "metadata": {
    "tags": []
   },
   "outputs": [
    {
     "name": "stdout",
     "output_type": "stream",
     "text": [
      "The linear regression model test score is -38.20\n",
      "The linear regression model train score is -47.63\n"
     ]
    }
   ],
   "source": [
    "#Let's prnt the test score is for the linear regression model\n",
    "print(f'The linear regression model test score is {linear.score(X_test,y_test)*100:.2f}')\n",
    "#Print the train score for linear regression model\n",
    "print(f'The linear regression model train score is {linear.score(X_train,y_train)*100:.2f}')"
   ]
  },
  {
   "cell_type": "code",
   "execution_count": 133,
   "id": "49b573e9",
   "metadata": {
    "tags": []
   },
   "outputs": [
    {
     "name": "stdout",
     "output_type": "stream",
     "text": [
      "The mean_squard_error is 183098224.38224196\n",
      "The mean_squard_error is -0.381960191769273\n"
     ]
    }
   ],
   "source": [
    "#Let's check the mean_squard_error and r2 score\n",
    "print(f'The mean_squard_error is {mean_squared_error(y_test,y_pred)}')\n",
    "#print the r2_score\n",
    "print(f'The mean_squard_error is {r2_score(y_test,y_pred)}')"
   ]
  },
  {
   "cell_type": "code",
   "execution_count": 134,
   "id": "3f1a4311",
   "metadata": {},
   "outputs": [
    {
     "data": {
      "text/plain": [
       "Text(0, 0.5, 'Predictions')"
      ]
     },
     "execution_count": 134,
     "metadata": {},
     "output_type": "execute_result"
    },
    {
     "data": {
      "image/png": "[encoded data removed]",
      "text/plain": [
       "<Figure size 1600x800 with 1 Axes>"
      ]
     },
     "metadata": {},
     "output_type": "display_data"
    }
   ],
   "source": [
    "plt.scatter(y_test, y_pred)\n",
    "plt.xlabel(\"True Values\")\n",
    "plt.ylabel(\"Predictions\")"
   ]
  },
  {
   "cell_type": "code",
   "execution_count": 135,
   "id": "5b514e89",
   "metadata": {
    "tags": []
   },
   "outputs": [
    {
     "data": {
      "text/html": [
       "<style>#sk-container-id-7 {color: black;background-color: white;}#sk-container-id-7 pre{padding: 0;}#sk-container-id-7 div.sk-toggleable {background-color: white;}#sk-container-id-7 label.sk-toggleable__label {cursor: pointer;display: block;width: 100%;margin-bottom: 0;padding: 0.3em;box-sizing: border-box;text-align: center;}#sk-container-id-7 label.sk-toggleable__label-arrow:before {content: \"▸\";float: left;margin-right: 0.25em;color: #696969;}#sk-container-id-7 label.sk-toggleable__label-arrow:hover:before {color: black;}#sk-container-id-7 div.sk-estimator:hover label.sk-toggleable__label-arrow:before {color: black;}#sk-container-id-7 div.sk-toggleable__content {max-height: 0;max-width: 0;overflow: hidden;text-align: left;background-color: #f0f8ff;}#sk-container-id-7 div.sk-toggleable__content pre {margin: 0.2em;color: black;border-radius: 0.25em;background-color: #f0f8ff;}#sk-container-id-7 input.sk-toggleable__control:checked~div.sk-toggleable__content {max-height: 200px;max-width: 100%;overflow: auto;}#sk-container-id-7 input.sk-toggleable__control:checked~label.sk-toggleable__label-arrow:before {content: \"▾\";}#sk-container-id-7 div.sk-estimator input.sk-toggleable__control:checked~label.sk-toggleable__label {background-color: #d4ebff;}#sk-container-id-7 div.sk-label input.sk-toggleable__control:checked~label.sk-toggleable__label {background-color: #d4ebff;}#sk-container-id-7 input.sk-hidden--visually {border: 0;clip: rect(1px 1px 1px 1px);clip: rect(1px, 1px, 1px, 1px);height: 1px;margin: -1px;overflow: hidden;padding: 0;position: absolute;width: 1px;}#sk-container-id-7 div.sk-estimator {font-family: monospace;background-color: #f0f8ff;border: 1px dotted black;border-radius: 0.25em;box-sizing: border-box;margin-bottom: 0.5em;}#sk-container-id-7 div.sk-estimator:hover {background-color: #d4ebff;}#sk-container-id-7 div.sk-parallel-item::after {content: \"\";width: 100%;border-bottom: 1px solid gray;flex-grow: 1;}#sk-container-id-7 div.sk-label:hover label.sk-toggleable__label {background-color: #d4ebff;}#sk-container-id-7 div.sk-serial::before {content: \"\";position: absolute;border-left: 1px solid gray;box-sizing: border-box;top: 0;bottom: 0;left: 50%;z-index: 0;}#sk-container-id-7 div.sk-serial {display: flex;flex-direction: column;align-items: center;background-color: white;padding-right: 0.2em;padding-left: 0.2em;position: relative;}#sk-container-id-7 div.sk-item {position: relative;z-index: 1;}#sk-container-id-7 div.sk-parallel {display: flex;align-items: stretch;justify-content: center;background-color: white;position: relative;}#sk-container-id-7 div.sk-item::before, #sk-container-id-7 div.sk-parallel-item::before {content: \"\";position: absolute;border-left: 1px solid gray;box-sizing: border-box;top: 0;bottom: 0;left: 50%;z-index: -1;}#sk-container-id-7 div.sk-parallel-item {display: flex;flex-direction: column;z-index: 1;position: relative;background-color: white;}#sk-container-id-7 div.sk-parallel-item:first-child::after {align-self: flex-end;width: 50%;}#sk-container-id-7 div.sk-parallel-item:last-child::after {align-self: flex-start;width: 50%;}#sk-container-id-7 div.sk-parallel-item:only-child::after {width: 0;}#sk-container-id-7 div.sk-dashed-wrapped {border: 1px dashed gray;margin: 0 0.4em 0.5em 0.4em;box-sizing: border-box;padding-bottom: 0.4em;background-color: white;}#sk-container-id-7 div.sk-label label {font-family: monospace;font-weight: bold;display: inline-block;line-height: 1.2em;}#sk-container-id-7 div.sk-label-container {text-align: center;}#sk-container-id-7 div.sk-container {/* jupyter's `normalize.less` sets `[hidden] { display: none; }` but bootstrap.min.css set `[hidden] { display: none !important; }` so we also need the `!important` here to be able to override the default hidden behavior on the sphinx rendered scikit-learn.org. See: https://github.com/scikit-learn/scikit-learn/issues/21755 */display: inline-block !important;position: relative;}#sk-container-id-7 div.sk-text-repr-fallback {display: none;}</style><div id=\"sk-container-id-7\" class=\"sk-top-container\"><div class=\"sk-text-repr-fallback\"><pre>DecisionTreeRegressor(ccp_alpha=0.1, max_depth=10, max_features=5,\n",
       "                      random_state=42)</pre><b>In a Jupyter environment, please rerun this cell to show the HTML representation or trust the notebook. <br />On GitHub, the HTML representation is unable to render, please try loading this page with nbviewer.org.</b></div><div class=\"sk-container\" hidden><div class=\"sk-item\"><div class=\"sk-estimator sk-toggleable\"><input class=\"sk-toggleable__control sk-hidden--visually\" id=\"sk-estimator-id-7\" type=\"checkbox\" checked><label for=\"sk-estimator-id-7\" class=\"sk-toggleable__label sk-toggleable__label-arrow\">DecisionTreeRegressor</label><div class=\"sk-toggleable__content\"><pre>DecisionTreeRegressor(ccp_alpha=0.1, max_depth=10, max_features=5,\n",
       "                      random_state=42)</pre></div></div></div></div></div>"
      ],
      "text/plain": [
       "DecisionTreeRegressor(ccp_alpha=0.1, max_depth=10, max_features=5,\n",
       "                      random_state=42)"
      ]
     },
     "execution_count": 135,
     "metadata": {},
     "output_type": "execute_result"
    }
   ],
   "source": [
    "#To install the decisiontree regressor model\n",
    "from sklearn.tree import DecisionTreeRegressor\n",
    "#intailze the model\n",
    "tree=DecisionTreeRegressor(criterion='squared_error',\n",
    "   # splitter='best',\n",
    "    max_depth=10,ccp_alpha=0.1,max_features=5,random_state=42)\n",
    "#Let's fit the model\n",
    "tree.fit(X_train,y_train)"
   ]
  },
  {
   "cell_type": "code",
   "execution_count": 136,
   "id": "8dd67466",
   "metadata": {
    "tags": []
   },
   "outputs": [
    {
     "data": {
      "text/plain": [
       "array([ 8545.585625  , 44202.65      ,  3786.07      , 13163.966     ,\n",
       "       10795.94      , 11240.38833333, 12637.875     , 21259.38      ,\n",
       "        5662.12      ,  8068.19      , 12829.46      , 10728.3       ,\n",
       "        3786.07      ,  7634.82489796, 46964.08333333, 26140.36      ,\n",
       "       14313.85      ,  2572.31333333, 32108.66      ,  2351.6175    ,\n",
       "        2143.34      ,  7634.82489796,  3906.458     ,  5095.63333333,\n",
       "        9321.75      ,  3906.458     , 11997.82166667, 11240.38833333,\n",
       "       10421.04      ,  6277.59285714, 14436.99666667, 14349.85      ,\n",
       "       34254.05      , 42303.69      ,  3089.74866667,  5578.23333333,\n",
       "        4247.7       ,  7634.82489796, 11455.81076923, 34254.05      ,\n",
       "        9361.33      ,  6300.16166667,  8691.515     , 12863.24307692,\n",
       "        6722.71      ,  4679.89      , 42112.24      ,  4571.41      ,\n",
       "       25333.33      ,  7634.82489796,  2057.79666667,  4679.89      ,\n",
       "        1825.81666667,  2165.736     ,  7634.82489796,  4767.9       ,\n",
       "       13747.22125   ,  6133.59      , 39749.468     , 51194.56      ,\n",
       "        2103.08      , 14319.68666667, 11257.13333333, 33475.82      ,\n",
       "       24671.66      ,  7634.82489796,  8939.22333333,  9944.7025    ,\n",
       "       11552.9       ,  5578.23333333,  8545.585625  , 18963.17      ,\n",
       "        7634.82489796, 26109.33      ,  3056.39      ,  7634.82489796,\n",
       "        6277.59285714, 46718.16      , 46964.08333333,  7634.82489796,\n",
       "        3786.07      , 36219.41      ,  7634.82489796,  6133.59      ,\n",
       "        6360.99      , 16455.71      ,  9361.33      ,  8939.22333333,\n",
       "       11076.37777778, 10421.04      ,  5424.4075    ,  1515.34      ,\n",
       "        2633.45625   ,  2007.95      , 36189.1       ,  3401.8175    ,\n",
       "       13129.6       ,  3089.74866667,  8545.585625  ,  4259.67      ,\n",
       "        6190.2495    ,  1515.34      , 12387.52      ,  6190.2495    ,\n",
       "       39749.468     , 18537.11      , 11997.82166667, 10706.36      ,\n",
       "       14349.85      , 33900.65      ,  6458.13      ,  6190.2495    ,\n",
       "        5662.12      , 11174.59      ,  6190.2495    , 37484.45      ,\n",
       "        2709.175     ,  2007.95      ,  9306.68666667,  8671.19      ,\n",
       "       17324.24      , 36397.58      , 39749.468     , 13221.48666667,\n",
       "        6722.71      ,  8939.22333333,  7634.82489796,  6190.2495    ,\n",
       "        9321.75      ,  5354.07      ,  7375.88666667,  8545.585625  ,\n",
       "       14313.85      , 29186.48      , 12863.24307692,  4767.9       ,\n",
       "       24671.66      ,  5354.07      ,  7935.29      , 30260.        ,\n",
       "       21259.38      ,  6190.2495    ,  9306.68666667,  1622.14166667,\n",
       "        2633.45625   ,  3056.39      , 12129.61      , 35491.64      ,\n",
       "       34650.745     ,  1515.34      ,  6300.16166667,  8630.38      ,\n",
       "        4259.67      ,  8545.585625  ,  9357.854     ,  8122.29      ,\n",
       "        1515.34      , 11076.37777778, 22412.65      , 20344.4725    ,\n",
       "       11397.3025    , 23887.66      , 10381.48      ,  4883.87      ,\n",
       "        1872.98      ,  1515.34      ,  7146.06333333, 19144.58      ,\n",
       "        4571.41      ,  7146.06333333,  3906.458     ,  4247.7       ,\n",
       "       21797.        ,  7374.75      ,  1622.14166667, 22563.61333333,\n",
       "        7634.82489796,  8545.585625  ,  7146.06333333,  5095.63333333,\n",
       "       23065.42      ,  4320.41      , 14349.85      ,  7044.07333333,\n",
       "       12404.88      , 13163.966     , 11174.59      , 22218.11      ,\n",
       "        4504.66      ,  9321.75      ,  1622.14166667, 11093.62      ,\n",
       "       15428.28      , 27037.91      ,  2091.54      , 10282.985     ,\n",
       "       12863.24307692,  7634.82489796,  6190.2495    ,  6417.76857143,\n",
       "       11397.3025    , 13352.1       ,  7634.82489796, 12637.875     ,\n",
       "        6190.2495    , 34822.67      ,  4767.9       , 13069.54333333,\n",
       "        3984.955     ,  3089.74866667,  6190.2495    , 40941.29      ,\n",
       "       14349.85      ,  6190.2495    ,  3056.39      ,  3056.39      ,\n",
       "       12387.52      ,  2730.11      , 45008.96      , 13069.54333333,\n",
       "       12387.52      , 11538.42      ,  7634.82489796, 12863.24307692,\n",
       "        2285.73      , 37742.58      , 36085.22      ,  1515.34      ,\n",
       "       11455.81076923,  2091.54      , 16614.74      ,  3260.2       ,\n",
       "        5095.63333333,  2318.03111111, 22462.04      ,  9344.18333333,\n",
       "       17756.22666667,  8122.29      ,  3786.07      , 23306.55      ,\n",
       "       16776.3       , 11404.295     ,  8691.515     ,  5354.07      ,\n",
       "        7590.92      ,  7634.82489796,  1755.08666667,  4083.435     ,\n",
       "       20878.78      , 16614.74      , 34650.745     ,  2091.54      ,\n",
       "        8691.515     , 12521.2325    ,  2416.96      , 12387.52      ,\n",
       "        7634.82489796,  2633.45625   ,  4500.34      , 48442.93833333,\n",
       "       20914.075     , 48442.93833333,  9460.21166667, 30184.94      ,\n",
       "       33475.82      , 12863.24307692, 12387.52      ,  9811.935     ,\n",
       "       32108.66      , 17756.22666667, 10255.98      , 12387.52      ,\n",
       "        2165.736     ,  7634.82489796, 11455.81076923, 13747.22125   ,\n",
       "       42112.24      ,  6190.2495    ,  7634.82489796,  8691.515     ,\n",
       "       17002.990625  ,  6300.16166667, 13069.54333333,  2057.79666667,\n",
       "        1825.81666667, 12609.89      , 13163.966     , 11997.82166667,\n",
       "       13069.54333333, 30184.94      , 14319.68666667, 12863.24307692,\n",
       "       37165.16      ,  4767.9       ,  2633.45625   , 23967.38      ,\n",
       "       11997.82166667, 48442.93833333, 12863.24307692, 10092.195     ,\n",
       "       42969.85      , 16776.3       , 11455.81076923,  8765.25      ,\n",
       "        6190.2495    , 17608.745     ,  3056.39      ,  2103.08      ,\n",
       "       34650.745     , 11997.82166667,  7806.952     , 15413.276     ,\n",
       "        2318.03111111, 21984.47      ,  7806.952     , 34650.745     ,\n",
       "        6190.2495    ,  7634.82489796, 45008.96      , 42969.85      ,\n",
       "        2103.08      , 33471.97      ,  1872.98      ,  8691.515     ,\n",
       "        7634.82489796, 19673.34      ,  2633.45625   ,  6190.2495    ,\n",
       "       62592.87      ,  3786.07      ,  3172.68571429,  2318.03111111,\n",
       "        8630.38      , 42112.24      , 12387.52      ])"
      ]
     },
     "execution_count": 136,
     "metadata": {},
     "output_type": "execute_result"
    }
   ],
   "source": [
    "#predict the prediction using the data\n",
    "tree_pred=tree.predict(X_test)\n",
    "#prediction\n",
    "tree_pred"
   ]
  },
  {
   "cell_type": "code",
   "execution_count": 137,
   "id": "60c6f2dc",
   "metadata": {
    "tags": []
   },
   "outputs": [
    {
     "name": "stdout",
     "output_type": "stream",
     "text": [
      "The decisiontree regression model test score is 73.82\n",
      "The decisiontree regression model train score is 96.59\n"
     ]
    }
   ],
   "source": [
    "#Let's prnt the test score is for the decisiontree regression model\n",
    "print(f'The decisiontree regression model test score is {tree.score(X_test,y_test)*100:.2f}')\n",
    "#Print the train score for decisiontree regression model\n",
    "print(f'The decisiontree regression model train score is {tree.score(X_train,y_train)*100:.2f}')"
   ]
  },
  {
   "cell_type": "code",
   "execution_count": 138,
   "id": "886c163a",
   "metadata": {
    "tags": []
   },
   "outputs": [
    {
     "name": "stdout",
     "output_type": "stream",
     "text": [
      "The mean_squard_error is 34682493.073962525\n",
      "The mean_squard_error is 0.7382288935829884\n"
     ]
    }
   ],
   "source": [
    "#Let's check the mean_squard_error and r2 score\n",
    "print(f'The mean_squard_error is {mean_squared_error(y_test,tree_pred)}')\n",
    "#print the r2_score\n",
    "print(f'The mean_squard_error is {r2_score(y_test,tree_pred)}')"
   ]
  },
  {
   "cell_type": "code",
   "execution_count": 139,
   "id": "02488860",
   "metadata": {
    "tags": []
   },
   "outputs": [
    {
     "data": {
      "text/html": [
       "<style>#sk-container-id-8 {color: black;background-color: white;}#sk-container-id-8 pre{padding: 0;}#sk-container-id-8 div.sk-toggleable {background-color: white;}#sk-container-id-8 label.sk-toggleable__label {cursor: pointer;display: block;width: 100%;margin-bottom: 0;padding: 0.3em;box-sizing: border-box;text-align: center;}#sk-container-id-8 label.sk-toggleable__label-arrow:before {content: \"▸\";float: left;margin-right: 0.25em;color: #696969;}#sk-container-id-8 label.sk-toggleable__label-arrow:hover:before {color: black;}#sk-container-id-8 div.sk-estimator:hover label.sk-toggleable__label-arrow:before {color: black;}#sk-container-id-8 div.sk-toggleable__content {max-height: 0;max-width: 0;overflow: hidden;text-align: left;background-color: #f0f8ff;}#sk-container-id-8 div.sk-toggleable__content pre {margin: 0.2em;color: black;border-radius: 0.25em;background-color: #f0f8ff;}#sk-container-id-8 input.sk-toggleable__control:checked~div.sk-toggleable__content {max-height: 200px;max-width: 100%;overflow: auto;}#sk-container-id-8 input.sk-toggleable__control:checked~label.sk-toggleable__label-arrow:before {content: \"▾\";}#sk-container-id-8 div.sk-estimator input.sk-toggleable__control:checked~label.sk-toggleable__label {background-color: #d4ebff;}#sk-container-id-8 div.sk-label input.sk-toggleable__control:checked~label.sk-toggleable__label {background-color: #d4ebff;}#sk-container-id-8 input.sk-hidden--visually {border: 0;clip: rect(1px 1px 1px 1px);clip: rect(1px, 1px, 1px, 1px);height: 1px;margin: -1px;overflow: hidden;padding: 0;position: absolute;width: 1px;}#sk-container-id-8 div.sk-estimator {font-family: monospace;background-color: #f0f8ff;border: 1px dotted black;border-radius: 0.25em;box-sizing: border-box;margin-bottom: 0.5em;}#sk-container-id-8 div.sk-estimator:hover {background-color: #d4ebff;}#sk-container-id-8 div.sk-parallel-item::after {content: \"\";width: 100%;border-bottom: 1px solid gray;flex-grow: 1;}#sk-container-id-8 div.sk-label:hover label.sk-toggleable__label {background-color: #d4ebff;}#sk-container-id-8 div.sk-serial::before {content: \"\";position: absolute;border-left: 1px solid gray;box-sizing: border-box;top: 0;bottom: 0;left: 50%;z-index: 0;}#sk-container-id-8 div.sk-serial {display: flex;flex-direction: column;align-items: center;background-color: white;padding-right: 0.2em;padding-left: 0.2em;position: relative;}#sk-container-id-8 div.sk-item {position: relative;z-index: 1;}#sk-container-id-8 div.sk-parallel {display: flex;align-items: stretch;justify-content: center;background-color: white;position: relative;}#sk-container-id-8 div.sk-item::before, #sk-container-id-8 div.sk-parallel-item::before {content: \"\";position: absolute;border-left: 1px solid gray;box-sizing: border-box;top: 0;bottom: 0;left: 50%;z-index: -1;}#sk-container-id-8 div.sk-parallel-item {display: flex;flex-direction: column;z-index: 1;position: relative;background-color: white;}#sk-container-id-8 div.sk-parallel-item:first-child::after {align-self: flex-end;width: 50%;}#sk-container-id-8 div.sk-parallel-item:last-child::after {align-self: flex-start;width: 50%;}#sk-container-id-8 div.sk-parallel-item:only-child::after {width: 0;}#sk-container-id-8 div.sk-dashed-wrapped {border: 1px dashed gray;margin: 0 0.4em 0.5em 0.4em;box-sizing: border-box;padding-bottom: 0.4em;background-color: white;}#sk-container-id-8 div.sk-label label {font-family: monospace;font-weight: bold;display: inline-block;line-height: 1.2em;}#sk-container-id-8 div.sk-label-container {text-align: center;}#sk-container-id-8 div.sk-container {/* jupyter's `normalize.less` sets `[hidden] { display: none; }` but bootstrap.min.css set `[hidden] { display: none !important; }` so we also need the `!important` here to be able to override the default hidden behavior on the sphinx rendered scikit-learn.org. See: https://github.com/scikit-learn/scikit-learn/issues/21755 */display: inline-block !important;position: relative;}#sk-container-id-8 div.sk-text-repr-fallback {display: none;}</style><div id=\"sk-container-id-8\" class=\"sk-top-container\"><div class=\"sk-text-repr-fallback\"><pre>RandomForestRegressor(n_estimators=700, n_jobs=10, random_state=0)</pre><b>In a Jupyter environment, please rerun this cell to show the HTML representation or trust the notebook. <br />On GitHub, the HTML representation is unable to render, please try loading this page with nbviewer.org.</b></div><div class=\"sk-container\" hidden><div class=\"sk-item\"><div class=\"sk-estimator sk-toggleable\"><input class=\"sk-toggleable__control sk-hidden--visually\" id=\"sk-estimator-id-8\" type=\"checkbox\" checked><label for=\"sk-estimator-id-8\" class=\"sk-toggleable__label sk-toggleable__label-arrow\">RandomForestRegressor</label><div class=\"sk-toggleable__content\"><pre>RandomForestRegressor(n_estimators=700, n_jobs=10, random_state=0)</pre></div></div></div></div></div>"
      ],
      "text/plain": [
       "RandomForestRegressor(n_estimators=700, n_jobs=10, random_state=0)"
      ]
     },
     "execution_count": 139,
     "metadata": {},
     "output_type": "execute_result"
    }
   ],
   "source": [
    "#import the randomforesttree regressor\n",
    "from sklearn.ensemble import RandomForestRegressor\n",
    "#intalize the model\n",
    "random=RandomForestRegressor(n_estimators=700,criterion='squared_error',n_jobs=10,random_state=0)\n",
    "#Let's fit the data to random forest\n",
    "random.fit(X_train,y_train)"
   ]
  },
  {
   "cell_type": "code",
   "execution_count": 140,
   "id": "3a928f63",
   "metadata": {
    "tags": []
   },
   "outputs": [
    {
     "data": {
      "text/plain": [
       "array([11065.26105714, 44867.65202857,  7129.10802619, 14495.64272857,\n",
       "        7018.02507524, 14425.66424286, 22323.89725714, 21838.41207143,\n",
       "        5988.03947143,  9370.74078571, 14473.39872857,  4356.71311429,\n",
       "        6888.76995714,  8530.5745    , 48320.05941429, 12504.58861429,\n",
       "       15114.01661429,  2349.6337    , 11256.20154286,  6521.33790857,\n",
       "        2830.64167143,  5683.53752857,  4440.76711429,  6887.45237143,\n",
       "       11203.87474286,  4932.25344286, 12867.49792857, 13476.79497143,\n",
       "       10659.08368571,  6380.34005714, 19062.04855714, 17930.8682    ,\n",
       "       34755.51697143, 43670.33665714,  3773.6325    ,  5556.68001429,\n",
       "        5961.1892    ,  7933.68538571, 11917.97062857, 35564.79988571,\n",
       "       10692.10444286,  6638.88298571,  9276.05447143, 12611.01855714,\n",
       "        3800.00457653,  5354.49978571, 40372.34061429,  7079.9416    ,\n",
       "       14909.18381429,  7290.99021429,  1932.84081429,  5780.02271429,\n",
       "        3783.74163966,  2355.68088252,  6452.92594286,  7753.65684286,\n",
       "       13803.5819    ,  7034.62278571, 41566.91597143, 45599.59934286,\n",
       "        2259.7116    , 10567.09422857, 12995.49464286, 34032.18551429,\n",
       "        9684.0261    ,  8221.69      , 10653.7529    , 10868.81717143,\n",
       "       11489.94922857,  8284.58395714, 12836.35115714, 10898.3406    ,\n",
       "        6738.71632857, 26924.57927143,  4738.55615714,  6834.53571429,\n",
       "        6824.9726    , 47882.76902857, 46917.11971429,  7688.85204286,\n",
       "        5915.97572857, 37609.31991429,  6737.80052857,  7649.28482857,\n",
       "       14950.97507143, 17775.73481429, 10452.2597    , 10339.85892857,\n",
       "       10518.93288571, 13851.18528571,  6789.4011    ,  2168.6164    ,\n",
       "        5616.30965714,  1944.3608    , 35402.22878571,  8853.4061    ,\n",
       "       18586.30634286,  4056.44154286, 11572.07835714,  5102.3765    ,\n",
       "        6911.32628571,  1993.77547143, 13363.48287143,  6185.88921429,\n",
       "       42528.03694286, 10901.11951429, 11897.0267    ,  4930.442     ,\n",
       "       23737.23698571, 33901.1503    ,  9877.12492857,  7372.4561    ,\n",
       "        6329.91632857,  9281.12041429,  6247.13294286, 39073.86335714,\n",
       "        2862.03294286,  2174.10575714, 12380.62057143,  9686.48861429,\n",
       "       18657.608     , 36428.31868571, 40201.74261429, 13515.25894286,\n",
       "        3616.50280429,  9190.12468571,  8447.43028571,  4863.71052857,\n",
       "       12821.60722857,  8537.0287    ,  7648.19495714,  7477.68877143,\n",
       "       14976.86952857, 17219.73742857, 13718.44044286,  5199.05895714,\n",
       "       10441.35972857, 12135.34978571,  9308.85218571, 19561.92245714,\n",
       "       22303.64337143,  6187.45422857, 10777.68017143,  1966.71198571,\n",
       "        2680.24227143,  7326.75604286, 13188.19422857, 36614.09222857,\n",
       "       34946.15945714,  2896.68628571,  8867.80448571, 14203.99017143,\n",
       "        6558.61847143,  9541.57335714,  9313.22737143,  8716.61648571,\n",
       "        2167.52477143, 12306.20018571, 23732.38748571, 20612.74121429,\n",
       "       11962.42291429, 22472.51694286, 10189.98865714,  4887.81464286,\n",
       "        2331.57941429,  1496.59935714,  6966.79688571, 11900.47958571,\n",
       "        5138.80141429, 10078.08447143,  5728.70704286,  8143.25662857,\n",
       "       17450.80404286, 10263.18291429,  2486.2065985 , 19301.05805714,\n",
       "        8039.53108571, 10117.97584286, 10955.70621429,  6870.36431429,\n",
       "       24598.23715714,  5506.4851    , 16484.37458571,  7272.70884286,\n",
       "        6121.88753571, 14338.92468571,  8890.21432857, 26054.03677143,\n",
       "        6206.95344286, 14566.38367143,  2182.19927143, 12326.72718571,\n",
       "       12843.33681429, 26624.45125714,  3226.99070565,  7473.7256    ,\n",
       "       18705.92911429,  9775.96645714,  6804.55847143,  6099.9096    ,\n",
       "       11687.0871    , 14078.41235714, 11103.56492857, 18916.43342857,\n",
       "        7549.16481429, 34757.38704286,  8516.72945714, 13892.15702857,\n",
       "        4977.96057143,  5335.14054286,  5502.41462857, 38585.83197143,\n",
       "       17819.72565714,  5174.70947143,  5375.94605714,  4496.65478571,\n",
       "       13448.73317143,  5019.98105714, 45949.97905714, 15867.74548571,\n",
       "       15080.08938571, 12397.25518571, 12817.94985714, 13699.11041429,\n",
       "        3938.84828952, 39171.23177143, 36049.6856    ,  2028.61247143,\n",
       "       11484.60398571,  2572.82584048, 17562.71354286,  4836.18307143,\n",
       "        5666.12851429,  3603.41754286, 21949.18552857, 12458.54178571,\n",
       "       17337.17105714,  9881.46112857,  4943.61322857, 24342.17925714,\n",
       "       17476.30938571, 10776.04362857,  9309.35882857,  8343.66001429,\n",
       "        8994.10984286, 15295.93888571,  1956.31902857,  6375.4921    ,\n",
       "       11379.11432857, 16578.44617143, 35597.56255714,  2123.81383095,\n",
       "        9052.29194286, 13097.96164286,  6631.5716    , 17894.5685    ,\n",
       "        7941.70991429,  4067.5979    ,  7609.6619    , 47888.42992857,\n",
       "       19839.19701429, 48366.97592857, 12502.97527143, 28457.23544286,\n",
       "       33745.05564286, 12397.00677143, 12820.05811429, 11356.18652857,\n",
       "       12588.07462857, 17147.8172    , 11297.11758571, 13147.60725714,\n",
       "        2814.4499668 ,  6786.34695714, 13039.15435714, 14143.51661429,\n",
       "       41631.23282857,  5407.0673    ,  6828.14811429,  9163.02705714,\n",
       "       18383.19702857,  6214.16131429, 13433.51248571,  1932.4832    ,\n",
       "        3504.02947143,  6013.2051    , 13836.64855714, 11869.38142857,\n",
       "       13542.27225714, 28895.42871429, 11282.69444286, 14628.28162857,\n",
       "       37808.18152857,  6287.80261429,  2655.89468571, 24315.67085714,\n",
       "       13017.58142857, 48226.7923    , 13603.42681429, 13154.0949    ,\n",
       "       43227.3581    , 17480.72945714, 13092.47027143, 10269.33154286,\n",
       "        6327.57768571, 19577.42902857,  3664.8694    ,  2095.9668    ,\n",
       "       35488.72324286, 11952.48742857,  9642.82004286, 13378.47407143,\n",
       "        5388.32622857,  8207.39955714, 10828.08387143, 35770.26848571,\n",
       "        7108.63692857, 10200.09642857, 46603.77971429, 42966.18242857,\n",
       "        3674.44935714, 15698.3544    ,  2139.70497143,  9335.96857143,\n",
       "       14863.95148571,  4466.08365714,  2481.81765714,  7060.77498571,\n",
       "       48668.08081429,  7282.47575714,  5624.0912    ,  2996.56684286,\n",
       "        9517.75051429, 40112.12528571, 13946.24485714])"
      ]
     },
     "execution_count": 140,
     "metadata": {},
     "output_type": "execute_result"
    }
   ],
   "source": [
    "#Randomforest regressor prediction\n",
    "random_pred=random.predict(X_test)\n",
    "#prediction\n",
    "random_pred"
   ]
  },
  {
   "cell_type": "code",
   "execution_count": 141,
   "id": "ba63751c",
   "metadata": {
    "tags": []
   },
   "outputs": [
    {
     "name": "stdout",
     "output_type": "stream",
     "text": [
      "The decisiontree regression model test score is 84.47\n",
      "The decisiontree regression model train score is 97.59\n"
     ]
    }
   ],
   "source": [
    "#Let's prnt the test score is for the decisiontree regression model\n",
    "print(f'The decisiontree regression model test score is {random.score(X_test,y_test)*100:.2f}')\n",
    "#Print the train score for decisiontree regression model\n",
    "print(f'The decisiontree regression model train score is {random.score(X_train,y_train)*100:.2f}')"
   ]
  },
  {
   "cell_type": "code",
   "execution_count": 142,
   "id": "2029151d",
   "metadata": {
    "tags": []
   },
   "outputs": [
    {
     "name": "stdout",
     "output_type": "stream",
     "text": [
      "The mean_squard_error is 20578917.55061899\n",
      "The mean_squard_error is 0.8446776589963715\n"
     ]
    }
   ],
   "source": [
    "#Let's check the mean_squard_error and r2 score\n",
    "print(f'The mean_squard_error is {mean_squared_error(y_test,random_pred)}')\n",
    "#print the r2_score\n",
    "print(f'The mean_squard_error is {r2_score(y_test,random_pred)}')"
   ]
  },
  {
   "cell_type": "code",
   "execution_count": null,
   "id": "b45cef0f",
   "metadata": {},
   "outputs": [],
   "source": []
  },
  {
   "cell_type": "code",
   "execution_count": 143,
   "id": "899ccdd7",
   "metadata": {
    "tags": []
   },
   "outputs": [
    {
     "data": {
      "text/html": [
       "<style>#sk-container-id-9 {color: black;background-color: white;}#sk-container-id-9 pre{padding: 0;}#sk-container-id-9 div.sk-toggleable {background-color: white;}#sk-container-id-9 label.sk-toggleable__label {cursor: pointer;display: block;width: 100%;margin-bottom: 0;padding: 0.3em;box-sizing: border-box;text-align: center;}#sk-container-id-9 label.sk-toggleable__label-arrow:before {content: \"▸\";float: left;margin-right: 0.25em;color: #696969;}#sk-container-id-9 label.sk-toggleable__label-arrow:hover:before {color: black;}#sk-container-id-9 div.sk-estimator:hover label.sk-toggleable__label-arrow:before {color: black;}#sk-container-id-9 div.sk-toggleable__content {max-height: 0;max-width: 0;overflow: hidden;text-align: left;background-color: #f0f8ff;}#sk-container-id-9 div.sk-toggleable__content pre {margin: 0.2em;color: black;border-radius: 0.25em;background-color: #f0f8ff;}#sk-container-id-9 input.sk-toggleable__control:checked~div.sk-toggleable__content {max-height: 200px;max-width: 100%;overflow: auto;}#sk-container-id-9 input.sk-toggleable__control:checked~label.sk-toggleable__label-arrow:before {content: \"▾\";}#sk-container-id-9 div.sk-estimator input.sk-toggleable__control:checked~label.sk-toggleable__label {background-color: #d4ebff;}#sk-container-id-9 div.sk-label input.sk-toggleable__control:checked~label.sk-toggleable__label {background-color: #d4ebff;}#sk-container-id-9 input.sk-hidden--visually {border: 0;clip: rect(1px 1px 1px 1px);clip: rect(1px, 1px, 1px, 1px);height: 1px;margin: -1px;overflow: hidden;padding: 0;position: absolute;width: 1px;}#sk-container-id-9 div.sk-estimator {font-family: monospace;background-color: #f0f8ff;border: 1px dotted black;border-radius: 0.25em;box-sizing: border-box;margin-bottom: 0.5em;}#sk-container-id-9 div.sk-estimator:hover {background-color: #d4ebff;}#sk-container-id-9 div.sk-parallel-item::after {content: \"\";width: 100%;border-bottom: 1px solid gray;flex-grow: 1;}#sk-container-id-9 div.sk-label:hover label.sk-toggleable__label {background-color: #d4ebff;}#sk-container-id-9 div.sk-serial::before {content: \"\";position: absolute;border-left: 1px solid gray;box-sizing: border-box;top: 0;bottom: 0;left: 50%;z-index: 0;}#sk-container-id-9 div.sk-serial {display: flex;flex-direction: column;align-items: center;background-color: white;padding-right: 0.2em;padding-left: 0.2em;position: relative;}#sk-container-id-9 div.sk-item {position: relative;z-index: 1;}#sk-container-id-9 div.sk-parallel {display: flex;align-items: stretch;justify-content: center;background-color: white;position: relative;}#sk-container-id-9 div.sk-item::before, #sk-container-id-9 div.sk-parallel-item::before {content: \"\";position: absolute;border-left: 1px solid gray;box-sizing: border-box;top: 0;bottom: 0;left: 50%;z-index: -1;}#sk-container-id-9 div.sk-parallel-item {display: flex;flex-direction: column;z-index: 1;position: relative;background-color: white;}#sk-container-id-9 div.sk-parallel-item:first-child::after {align-self: flex-end;width: 50%;}#sk-container-id-9 div.sk-parallel-item:last-child::after {align-self: flex-start;width: 50%;}#sk-container-id-9 div.sk-parallel-item:only-child::after {width: 0;}#sk-container-id-9 div.sk-dashed-wrapped {border: 1px dashed gray;margin: 0 0.4em 0.5em 0.4em;box-sizing: border-box;padding-bottom: 0.4em;background-color: white;}#sk-container-id-9 div.sk-label label {font-family: monospace;font-weight: bold;display: inline-block;line-height: 1.2em;}#sk-container-id-9 div.sk-label-container {text-align: center;}#sk-container-id-9 div.sk-container {/* jupyter's `normalize.less` sets `[hidden] { display: none; }` but bootstrap.min.css set `[hidden] { display: none !important; }` so we also need the `!important` here to be able to override the default hidden behavior on the sphinx rendered scikit-learn.org. See: https://github.com/scikit-learn/scikit-learn/issues/21755 */display: inline-block !important;position: relative;}#sk-container-id-9 div.sk-text-repr-fallback {display: none;}</style><div id=\"sk-container-id-9\" class=\"sk-top-container\"><div class=\"sk-text-repr-fallback\"><pre>XGBRegressor(base_score=None, booster=&#x27;gbtree&#x27;, callbacks=None,\n",
       "             colsample_bylevel=None, colsample_bynode=None,\n",
       "             colsample_bytree=None, device=None, early_stopping_rounds=None,\n",
       "             enable_categorical=False, eval_metric=None, feature_types=None,\n",
       "             gamma=None, grow_policy=None, importance_type=None,\n",
       "             interaction_constraints=None, learning_rate=0.1, max_bin=None,\n",
       "             max_cat_threshold=None, max_cat_to_onehot=None,\n",
       "             max_delta_step=None, max_depth=3, max_leaves=None,\n",
       "             min_child_weight=None, missing=nan, monotone_constraints=None,\n",
       "             multi_strategy=None, n_estimators=500, n_jobs=None,\n",
       "             num_parallel_tree=None, objective=&#x27;reg:linear&#x27;, ...)</pre><b>In a Jupyter environment, please rerun this cell to show the HTML representation or trust the notebook. <br />On GitHub, the HTML representation is unable to render, please try loading this page with nbviewer.org.</b></div><div class=\"sk-container\" hidden><div class=\"sk-item\"><div class=\"sk-estimator sk-toggleable\"><input class=\"sk-toggleable__control sk-hidden--visually\" id=\"sk-estimator-id-9\" type=\"checkbox\" checked><label for=\"sk-estimator-id-9\" class=\"sk-toggleable__label sk-toggleable__label-arrow\">XGBRegressor</label><div class=\"sk-toggleable__content\"><pre>XGBRegressor(base_score=None, booster=&#x27;gbtree&#x27;, callbacks=None,\n",
       "             colsample_bylevel=None, colsample_bynode=None,\n",
       "             colsample_bytree=None, device=None, early_stopping_rounds=None,\n",
       "             enable_categorical=False, eval_metric=None, feature_types=None,\n",
       "             gamma=None, grow_policy=None, importance_type=None,\n",
       "             interaction_constraints=None, learning_rate=0.1, max_bin=None,\n",
       "             max_cat_threshold=None, max_cat_to_onehot=None,\n",
       "             max_delta_step=None, max_depth=3, max_leaves=None,\n",
       "             min_child_weight=None, missing=nan, monotone_constraints=None,\n",
       "             multi_strategy=None, n_estimators=500, n_jobs=None,\n",
       "             num_parallel_tree=None, objective=&#x27;reg:linear&#x27;, ...)</pre></div></div></div></div></div>"
      ],
      "text/plain": [
       "XGBRegressor(base_score=None, booster='gbtree', callbacks=None,\n",
       "             colsample_bylevel=None, colsample_bynode=None,\n",
       "             colsample_bytree=None, device=None, early_stopping_rounds=None,\n",
       "             enable_categorical=False, eval_metric=None, feature_types=None,\n",
       "             gamma=None, grow_policy=None, importance_type=None,\n",
       "             interaction_constraints=None, learning_rate=0.1, max_bin=None,\n",
       "             max_cat_threshold=None, max_cat_to_onehot=None,\n",
       "             max_delta_step=None, max_depth=3, max_leaves=None,\n",
       "             min_child_weight=None, missing=nan, monotone_constraints=None,\n",
       "             multi_strategy=None, n_estimators=500, n_jobs=None,\n",
       "             num_parallel_tree=None, objective='reg:linear', ...)"
      ]
     },
     "execution_count": 143,
     "metadata": {},
     "output_type": "execute_result"
    }
   ],
   "source": [
    "# create an xgboost regression model\n",
    "#intialize the Xgbregressor\n",
    "from xgboost import XGBRegressor\n",
    "xgboost = XGBRegressor(max_depth=3, learning_rate=0.1, n_estimators=500, objective='reg:linear', booster='gbtree')\n",
    "#fit the data to train data\n",
    "xgboost.fit(X_train,y_train)"
   ]
  },
  {
   "cell_type": "code",
   "execution_count": 144,
   "id": "b09e9884",
   "metadata": {
    "tags": []
   },
   "outputs": [
    {
     "data": {
      "text/html": [
       "<style>#sk-container-id-10 {color: black;background-color: white;}#sk-container-id-10 pre{padding: 0;}#sk-container-id-10 div.sk-toggleable {background-color: white;}#sk-container-id-10 label.sk-toggleable__label {cursor: pointer;display: block;width: 100%;margin-bottom: 0;padding: 0.3em;box-sizing: border-box;text-align: center;}#sk-container-id-10 label.sk-toggleable__label-arrow:before {content: \"▸\";float: left;margin-right: 0.25em;color: #696969;}#sk-container-id-10 label.sk-toggleable__label-arrow:hover:before {color: black;}#sk-container-id-10 div.sk-estimator:hover label.sk-toggleable__label-arrow:before {color: black;}#sk-container-id-10 div.sk-toggleable__content {max-height: 0;max-width: 0;overflow: hidden;text-align: left;background-color: #f0f8ff;}#sk-container-id-10 div.sk-toggleable__content pre {margin: 0.2em;color: black;border-radius: 0.25em;background-color: #f0f8ff;}#sk-container-id-10 input.sk-toggleable__control:checked~div.sk-toggleable__content {max-height: 200px;max-width: 100%;overflow: auto;}#sk-container-id-10 input.sk-toggleable__control:checked~label.sk-toggleable__label-arrow:before {content: \"▾\";}#sk-container-id-10 div.sk-estimator input.sk-toggleable__control:checked~label.sk-toggleable__label {background-color: #d4ebff;}#sk-container-id-10 div.sk-label input.sk-toggleable__control:checked~label.sk-toggleable__label {background-color: #d4ebff;}#sk-container-id-10 input.sk-hidden--visually {border: 0;clip: rect(1px 1px 1px 1px);clip: rect(1px, 1px, 1px, 1px);height: 1px;margin: -1px;overflow: hidden;padding: 0;position: absolute;width: 1px;}#sk-container-id-10 div.sk-estimator {font-family: monospace;background-color: #f0f8ff;border: 1px dotted black;border-radius: 0.25em;box-sizing: border-box;margin-bottom: 0.5em;}#sk-container-id-10 div.sk-estimator:hover {background-color: #d4ebff;}#sk-container-id-10 div.sk-parallel-item::after {content: \"\";width: 100%;border-bottom: 1px solid gray;flex-grow: 1;}#sk-container-id-10 div.sk-label:hover label.sk-toggleable__label {background-color: #d4ebff;}#sk-container-id-10 div.sk-serial::before {content: \"\";position: absolute;border-left: 1px solid gray;box-sizing: border-box;top: 0;bottom: 0;left: 50%;z-index: 0;}#sk-container-id-10 div.sk-serial {display: flex;flex-direction: column;align-items: center;background-color: white;padding-right: 0.2em;padding-left: 0.2em;position: relative;}#sk-container-id-10 div.sk-item {position: relative;z-index: 1;}#sk-container-id-10 div.sk-parallel {display: flex;align-items: stretch;justify-content: center;background-color: white;position: relative;}#sk-container-id-10 div.sk-item::before, #sk-container-id-10 div.sk-parallel-item::before {content: \"\";position: absolute;border-left: 1px solid gray;box-sizing: border-box;top: 0;bottom: 0;left: 50%;z-index: -1;}#sk-container-id-10 div.sk-parallel-item {display: flex;flex-direction: column;z-index: 1;position: relative;background-color: white;}#sk-container-id-10 div.sk-parallel-item:first-child::after {align-self: flex-end;width: 50%;}#sk-container-id-10 div.sk-parallel-item:last-child::after {align-self: flex-start;width: 50%;}#sk-container-id-10 div.sk-parallel-item:only-child::after {width: 0;}#sk-container-id-10 div.sk-dashed-wrapped {border: 1px dashed gray;margin: 0 0.4em 0.5em 0.4em;box-sizing: border-box;padding-bottom: 0.4em;background-color: white;}#sk-container-id-10 div.sk-label label {font-family: monospace;font-weight: bold;display: inline-block;line-height: 1.2em;}#sk-container-id-10 div.sk-label-container {text-align: center;}#sk-container-id-10 div.sk-container {/* jupyter's `normalize.less` sets `[hidden] { display: none; }` but bootstrap.min.css set `[hidden] { display: none !important; }` so we also need the `!important` here to be able to override the default hidden behavior on the sphinx rendered scikit-learn.org. See: https://github.com/scikit-learn/scikit-learn/issues/21755 */display: inline-block !important;position: relative;}#sk-container-id-10 div.sk-text-repr-fallback {display: none;}</style><div id=\"sk-container-id-10\" class=\"sk-top-container\"><div class=\"sk-text-repr-fallback\"><pre>XGBRegressor(base_score=None, booster=&#x27;gbtree&#x27;, callbacks=None,\n",
       "             colsample_bylevel=None, colsample_bynode=None,\n",
       "             colsample_bytree=None, device=None, early_stopping_rounds=None,\n",
       "             enable_categorical=False, eval_metric=None, feature_types=None,\n",
       "             gamma=None, grow_policy=None, importance_type=None,\n",
       "             interaction_constraints=None, learning_rate=0.1, max_bin=None,\n",
       "             max_cat_threshold=None, max_cat_to_onehot=None,\n",
       "             max_delta_step=None, max_depth=3, max_leaves=None,\n",
       "             min_child_weight=None, missing=nan, monotone_constraints=None,\n",
       "             multi_strategy=None, n_estimators=500, n_jobs=None,\n",
       "             num_parallel_tree=None, objective=&#x27;reg:linear&#x27;, ...)</pre><b>In a Jupyter environment, please rerun this cell to show the HTML representation or trust the notebook. <br />On GitHub, the HTML representation is unable to render, please try loading this page with nbviewer.org.</b></div><div class=\"sk-container\" hidden><div class=\"sk-item\"><div class=\"sk-estimator sk-toggleable\"><input class=\"sk-toggleable__control sk-hidden--visually\" id=\"sk-estimator-id-10\" type=\"checkbox\" checked><label for=\"sk-estimator-id-10\" class=\"sk-toggleable__label sk-toggleable__label-arrow\">XGBRegressor</label><div class=\"sk-toggleable__content\"><pre>XGBRegressor(base_score=None, booster=&#x27;gbtree&#x27;, callbacks=None,\n",
       "             colsample_bylevel=None, colsample_bynode=None,\n",
       "             colsample_bytree=None, device=None, early_stopping_rounds=None,\n",
       "             enable_categorical=False, eval_metric=None, feature_types=None,\n",
       "             gamma=None, grow_policy=None, importance_type=None,\n",
       "             interaction_constraints=None, learning_rate=0.1, max_bin=None,\n",
       "             max_cat_threshold=None, max_cat_to_onehot=None,\n",
       "             max_delta_step=None, max_depth=3, max_leaves=None,\n",
       "             min_child_weight=None, missing=nan, monotone_constraints=None,\n",
       "             multi_strategy=None, n_estimators=500, n_jobs=None,\n",
       "             num_parallel_tree=None, objective=&#x27;reg:linear&#x27;, ...)</pre></div></div></div></div></div>"
      ],
      "text/plain": [
       "XGBRegressor(base_score=None, booster='gbtree', callbacks=None,\n",
       "             colsample_bylevel=None, colsample_bynode=None,\n",
       "             colsample_bytree=None, device=None, early_stopping_rounds=None,\n",
       "             enable_categorical=False, eval_metric=None, feature_types=None,\n",
       "             gamma=None, grow_policy=None, importance_type=None,\n",
       "             interaction_constraints=None, learning_rate=0.1, max_bin=None,\n",
       "             max_cat_threshold=None, max_cat_to_onehot=None,\n",
       "             max_delta_step=None, max_depth=3, max_leaves=None,\n",
       "             min_child_weight=None, missing=nan, monotone_constraints=None,\n",
       "             multi_strategy=None, n_estimators=500, n_jobs=None,\n",
       "             num_parallel_tree=None, objective='reg:linear', ...)"
      ]
     },
     "execution_count": 144,
     "metadata": {},
     "output_type": "execute_result"
    }
   ],
   "source": [
    "#Make prediction on the test data\n",
    "xgboost_pred=xgboost.predict(X_test)\n",
    "xgboost"
   ]
  },
  {
   "cell_type": "code",
   "execution_count": 145,
   "id": "5a39c7c1",
   "metadata": {},
   "outputs": [
    {
     "name": "stdout",
     "output_type": "stream",
     "text": [
      "The xgboost regression model test score is 84.92\n",
      "The xgboost regression model train score is 93.72\n"
     ]
    }
   ],
   "source": [
    "#Let's prnt the test score is for the xgboost regression model\n",
    "print(f'The xgboost regression model test score is {xgboost.score(X_test,y_test)*100:.2f}')\n",
    "#Print the train score for xgboost regression model\n",
    "print(f'The xgboost regression model train score is {xgboost.score(X_train,y_train)*100:.2f}')"
   ]
  },
  {
   "cell_type": "code",
   "execution_count": 146,
   "id": "13fc882d",
   "metadata": {
    "tags": []
   },
   "outputs": [
    {
     "name": "stdout",
     "output_type": "stream",
     "text": [
      "The mean_squard_error is 19983952.658724215\n",
      "The mean_squard_error is 0.8491682421184797\n"
     ]
    }
   ],
   "source": [
    "#Let's check the mean_squard_error and r2 score\n",
    "print(f'The mean_squard_error is {mean_squared_error(y_test,xgboost_pred)}')\n",
    "#print the r2_score\n",
    "print(f'The mean_squard_error is {r2_score(y_test,xgboost_pred)}')"
   ]
  },
  {
   "cell_type": "code",
   "execution_count": 147,
   "id": "aead5818",
   "metadata": {
    "tags": []
   },
   "outputs": [
    {
     "data": {
      "text/html": [
       "<style>#sk-container-id-11 {color: black;background-color: white;}#sk-container-id-11 pre{padding: 0;}#sk-container-id-11 div.sk-toggleable {background-color: white;}#sk-container-id-11 label.sk-toggleable__label {cursor: pointer;display: block;width: 100%;margin-bottom: 0;padding: 0.3em;box-sizing: border-box;text-align: center;}#sk-container-id-11 label.sk-toggleable__label-arrow:before {content: \"▸\";float: left;margin-right: 0.25em;color: #696969;}#sk-container-id-11 label.sk-toggleable__label-arrow:hover:before {color: black;}#sk-container-id-11 div.sk-estimator:hover label.sk-toggleable__label-arrow:before {color: black;}#sk-container-id-11 div.sk-toggleable__content {max-height: 0;max-width: 0;overflow: hidden;text-align: left;background-color: #f0f8ff;}#sk-container-id-11 div.sk-toggleable__content pre {margin: 0.2em;color: black;border-radius: 0.25em;background-color: #f0f8ff;}#sk-container-id-11 input.sk-toggleable__control:checked~div.sk-toggleable__content {max-height: 200px;max-width: 100%;overflow: auto;}#sk-container-id-11 input.sk-toggleable__control:checked~label.sk-toggleable__label-arrow:before {content: \"▾\";}#sk-container-id-11 div.sk-estimator input.sk-toggleable__control:checked~label.sk-toggleable__label {background-color: #d4ebff;}#sk-container-id-11 div.sk-label input.sk-toggleable__control:checked~label.sk-toggleable__label {background-color: #d4ebff;}#sk-container-id-11 input.sk-hidden--visually {border: 0;clip: rect(1px 1px 1px 1px);clip: rect(1px, 1px, 1px, 1px);height: 1px;margin: -1px;overflow: hidden;padding: 0;position: absolute;width: 1px;}#sk-container-id-11 div.sk-estimator {font-family: monospace;background-color: #f0f8ff;border: 1px dotted black;border-radius: 0.25em;box-sizing: border-box;margin-bottom: 0.5em;}#sk-container-id-11 div.sk-estimator:hover {background-color: #d4ebff;}#sk-container-id-11 div.sk-parallel-item::after {content: \"\";width: 100%;border-bottom: 1px solid gray;flex-grow: 1;}#sk-container-id-11 div.sk-label:hover label.sk-toggleable__label {background-color: #d4ebff;}#sk-container-id-11 div.sk-serial::before {content: \"\";position: absolute;border-left: 1px solid gray;box-sizing: border-box;top: 0;bottom: 0;left: 50%;z-index: 0;}#sk-container-id-11 div.sk-serial {display: flex;flex-direction: column;align-items: center;background-color: white;padding-right: 0.2em;padding-left: 0.2em;position: relative;}#sk-container-id-11 div.sk-item {position: relative;z-index: 1;}#sk-container-id-11 div.sk-parallel {display: flex;align-items: stretch;justify-content: center;background-color: white;position: relative;}#sk-container-id-11 div.sk-item::before, #sk-container-id-11 div.sk-parallel-item::before {content: \"\";position: absolute;border-left: 1px solid gray;box-sizing: border-box;top: 0;bottom: 0;left: 50%;z-index: -1;}#sk-container-id-11 div.sk-parallel-item {display: flex;flex-direction: column;z-index: 1;position: relative;background-color: white;}#sk-container-id-11 div.sk-parallel-item:first-child::after {align-self: flex-end;width: 50%;}#sk-container-id-11 div.sk-parallel-item:last-child::after {align-self: flex-start;width: 50%;}#sk-container-id-11 div.sk-parallel-item:only-child::after {width: 0;}#sk-container-id-11 div.sk-dashed-wrapped {border: 1px dashed gray;margin: 0 0.4em 0.5em 0.4em;box-sizing: border-box;padding-bottom: 0.4em;background-color: white;}#sk-container-id-11 div.sk-label label {font-family: monospace;font-weight: bold;display: inline-block;line-height: 1.2em;}#sk-container-id-11 div.sk-label-container {text-align: center;}#sk-container-id-11 div.sk-container {/* jupyter's `normalize.less` sets `[hidden] { display: none; }` but bootstrap.min.css set `[hidden] { display: none !important; }` so we also need the `!important` here to be able to override the default hidden behavior on the sphinx rendered scikit-learn.org. See: https://github.com/scikit-learn/scikit-learn/issues/21755 */display: inline-block !important;position: relative;}#sk-container-id-11 div.sk-text-repr-fallback {display: none;}</style><div id=\"sk-container-id-11\" class=\"sk-top-container\"><div class=\"sk-text-repr-fallback\"><pre>Ridge(solver=&#x27;lsqr&#x27;)</pre><b>In a Jupyter environment, please rerun this cell to show the HTML representation or trust the notebook. <br />On GitHub, the HTML representation is unable to render, please try loading this page with nbviewer.org.</b></div><div class=\"sk-container\" hidden><div class=\"sk-item\"><div class=\"sk-estimator sk-toggleable\"><input class=\"sk-toggleable__control sk-hidden--visually\" id=\"sk-estimator-id-11\" type=\"checkbox\" checked><label for=\"sk-estimator-id-11\" class=\"sk-toggleable__label sk-toggleable__label-arrow\">Ridge</label><div class=\"sk-toggleable__content\"><pre>Ridge(solver=&#x27;lsqr&#x27;)</pre></div></div></div></div></div>"
      ],
      "text/plain": [
       "Ridge(solver='lsqr')"
      ]
     },
     "execution_count": 147,
     "metadata": {},
     "output_type": "execute_result"
    }
   ],
   "source": [
    "#import the Ridge algorithm\n",
    "from sklearn.linear_model import Ridge\n",
    "#intaize the Ridge algorithm\n",
    "ridge=Ridge(solver='lsqr')\n",
    "#And fit the data to train data\n",
    "ridge.fit(X_train,y_train)"
   ]
  },
  {
   "cell_type": "code",
   "execution_count": 148,
   "id": "7f150ce1",
   "metadata": {
    "tags": []
   },
   "outputs": [
    {
     "name": "stdout",
     "output_type": "stream",
     "text": [
      "The ridge regression model test score is 77.24\n",
      "The ridge regression model train score is 74.11\n"
     ]
    }
   ],
   "source": [
    "#Let's prnt the test score is for the decisiontree regression model\n",
    "print(f'The ridge regression model test score is {ridge.score(X_test,y_test)*100:.2f}')\n",
    "#Print the train score for decisiontree regression model\n",
    "print(f'The ridge regression model train score is {ridge.score(X_train,y_train)*100:.2f}')"
   ]
  },
  {
   "cell_type": "code",
   "execution_count": 149,
   "id": "bd5fe601",
   "metadata": {
    "tags": []
   },
   "outputs": [
    {
     "data": {
      "text/html": [
       "<style>#sk-container-id-12 {color: black;background-color: white;}#sk-container-id-12 pre{padding: 0;}#sk-container-id-12 div.sk-toggleable {background-color: white;}#sk-container-id-12 label.sk-toggleable__label {cursor: pointer;display: block;width: 100%;margin-bottom: 0;padding: 0.3em;box-sizing: border-box;text-align: center;}#sk-container-id-12 label.sk-toggleable__label-arrow:before {content: \"▸\";float: left;margin-right: 0.25em;color: #696969;}#sk-container-id-12 label.sk-toggleable__label-arrow:hover:before {color: black;}#sk-container-id-12 div.sk-estimator:hover label.sk-toggleable__label-arrow:before {color: black;}#sk-container-id-12 div.sk-toggleable__content {max-height: 0;max-width: 0;overflow: hidden;text-align: left;background-color: #f0f8ff;}#sk-container-id-12 div.sk-toggleable__content pre {margin: 0.2em;color: black;border-radius: 0.25em;background-color: #f0f8ff;}#sk-container-id-12 input.sk-toggleable__control:checked~div.sk-toggleable__content {max-height: 200px;max-width: 100%;overflow: auto;}#sk-container-id-12 input.sk-toggleable__control:checked~label.sk-toggleable__label-arrow:before {content: \"▾\";}#sk-container-id-12 div.sk-estimator input.sk-toggleable__control:checked~label.sk-toggleable__label {background-color: #d4ebff;}#sk-container-id-12 div.sk-label input.sk-toggleable__control:checked~label.sk-toggleable__label {background-color: #d4ebff;}#sk-container-id-12 input.sk-hidden--visually {border: 0;clip: rect(1px 1px 1px 1px);clip: rect(1px, 1px, 1px, 1px);height: 1px;margin: -1px;overflow: hidden;padding: 0;position: absolute;width: 1px;}#sk-container-id-12 div.sk-estimator {font-family: monospace;background-color: #f0f8ff;border: 1px dotted black;border-radius: 0.25em;box-sizing: border-box;margin-bottom: 0.5em;}#sk-container-id-12 div.sk-estimator:hover {background-color: #d4ebff;}#sk-container-id-12 div.sk-parallel-item::after {content: \"\";width: 100%;border-bottom: 1px solid gray;flex-grow: 1;}#sk-container-id-12 div.sk-label:hover label.sk-toggleable__label {background-color: #d4ebff;}#sk-container-id-12 div.sk-serial::before {content: \"\";position: absolute;border-left: 1px solid gray;box-sizing: border-box;top: 0;bottom: 0;left: 50%;z-index: 0;}#sk-container-id-12 div.sk-serial {display: flex;flex-direction: column;align-items: center;background-color: white;padding-right: 0.2em;padding-left: 0.2em;position: relative;}#sk-container-id-12 div.sk-item {position: relative;z-index: 1;}#sk-container-id-12 div.sk-parallel {display: flex;align-items: stretch;justify-content: center;background-color: white;position: relative;}#sk-container-id-12 div.sk-item::before, #sk-container-id-12 div.sk-parallel-item::before {content: \"\";position: absolute;border-left: 1px solid gray;box-sizing: border-box;top: 0;bottom: 0;left: 50%;z-index: -1;}#sk-container-id-12 div.sk-parallel-item {display: flex;flex-direction: column;z-index: 1;position: relative;background-color: white;}#sk-container-id-12 div.sk-parallel-item:first-child::after {align-self: flex-end;width: 50%;}#sk-container-id-12 div.sk-parallel-item:last-child::after {align-self: flex-start;width: 50%;}#sk-container-id-12 div.sk-parallel-item:only-child::after {width: 0;}#sk-container-id-12 div.sk-dashed-wrapped {border: 1px dashed gray;margin: 0 0.4em 0.5em 0.4em;box-sizing: border-box;padding-bottom: 0.4em;background-color: white;}#sk-container-id-12 div.sk-label label {font-family: monospace;font-weight: bold;display: inline-block;line-height: 1.2em;}#sk-container-id-12 div.sk-label-container {text-align: center;}#sk-container-id-12 div.sk-container {/* jupyter's `normalize.less` sets `[hidden] { display: none; }` but bootstrap.min.css set `[hidden] { display: none !important; }` so we also need the `!important` here to be able to override the default hidden behavior on the sphinx rendered scikit-learn.org. See: https://github.com/scikit-learn/scikit-learn/issues/21755 */display: inline-block !important;position: relative;}#sk-container-id-12 div.sk-text-repr-fallback {display: none;}</style><div id=\"sk-container-id-12\" class=\"sk-top-container\"><div class=\"sk-text-repr-fallback\"><pre>GradientBoostingRegressor(alpha=0.3, criterion=&#x27;squared_error&#x27;, loss=&#x27;huber&#x27;,\n",
       "                          n_estimators=300, random_state=120)</pre><b>In a Jupyter environment, please rerun this cell to show the HTML representation or trust the notebook. <br />On GitHub, the HTML representation is unable to render, please try loading this page with nbviewer.org.</b></div><div class=\"sk-container\" hidden><div class=\"sk-item\"><div class=\"sk-estimator sk-toggleable\"><input class=\"sk-toggleable__control sk-hidden--visually\" id=\"sk-estimator-id-12\" type=\"checkbox\" checked><label for=\"sk-estimator-id-12\" class=\"sk-toggleable__label sk-toggleable__label-arrow\">GradientBoostingRegressor</label><div class=\"sk-toggleable__content\"><pre>GradientBoostingRegressor(alpha=0.3, criterion=&#x27;squared_error&#x27;, loss=&#x27;huber&#x27;,\n",
       "                          n_estimators=300, random_state=120)</pre></div></div></div></div></div>"
      ],
      "text/plain": [
       "GradientBoostingRegressor(alpha=0.3, criterion='squared_error', loss='huber',\n",
       "                          n_estimators=300, random_state=120)"
      ]
     },
     "execution_count": 149,
     "metadata": {},
     "output_type": "execute_result"
    }
   ],
   "source": [
    "#install the graident boost method\n",
    "from sklearn.ensemble import GradientBoostingRegressor\n",
    "#intalize the gradientboostingregressor\n",
    "gbr=GradientBoostingRegressor(loss='huber',\n",
    "    n_estimators=300,alpha=0.3,criterion='squared_error',random_state=120)\n",
    "#Let fit the train data to the model\n",
    "gbr.fit(X_train,y_train)"
   ]
  },
  {
   "cell_type": "code",
   "execution_count": 150,
   "id": "d5b5ea6d",
   "metadata": {
    "tags": []
   },
   "outputs": [
    {
     "data": {
      "text/plain": [
       "array([ 9425.34158283, 42040.33846559,  3860.63377905, 14021.62525782,\n",
       "        2438.41233475, 11347.54124847, 13125.2122214 , 18092.72308792,\n",
       "        5020.63414866,  7871.64930262, 12619.53104176,  2885.38432734,\n",
       "        4212.55491011,  8378.79135238, 44696.73972392,  9079.55493604,\n",
       "       14774.5260164 ,  2289.5505342 ,  7604.995734  ,  2629.63588225,\n",
       "        2203.23271295,  5522.69478018,  3609.48568648,  5536.59511171,\n",
       "        9284.05190203,  4167.82680622, 12161.95206974, 11077.23928048,\n",
       "       10595.55837551,  5883.73149482, 15031.81316892, 14184.86414009,\n",
       "       35673.96349681, 42293.62067256,  3309.71861372,  4783.96817879,\n",
       "        5901.12045196,  7756.08270888, 11075.09125429, 36472.10889186,\n",
       "        9041.37868513,  5870.89184788,  8577.10135765, 12343.07029721,\n",
       "        2168.32817537,  4870.2923443 , 40539.74630627,  4475.84462672,\n",
       "       10619.37340566,  7645.76248877,  1923.10651544,  4646.34219155,\n",
       "        2440.56799166,  1917.48234596,  5107.97003852,  4755.76911442,\n",
       "       13493.13561898,  6621.6095123 , 40103.77715083, 40761.00353925,\n",
       "        2256.92413422,  8803.18558641, 10297.30112431, 34873.28577801,\n",
       "        5579.80570771,  5390.44151498,  8462.4918157 , 10417.69223332,\n",
       "       11369.97595001,  5976.51744506,  8404.95029671,  3701.91146634,\n",
       "        6691.29275409, 27663.79740663,  3623.74190465,  4474.89165771,\n",
       "        6718.17412653, 45373.05147012, 48938.47956879,  7082.156814  ,\n",
       "        3549.55039678, 38677.79481034,  6362.66274782,  7062.83271002,\n",
       "        7073.38645221, 15720.035374  ,  9907.51990246,  8833.4801269 ,\n",
       "       10355.92707208, 10307.85034669,  6617.16168725,  1874.8817202 ,\n",
       "        3043.67529314,  1937.08145725, 34499.44952751,  3408.41227674,\n",
       "       14337.27705268,  3849.57570633,  7890.89790924,  4215.26796086,\n",
       "        6657.67532479,  1539.4813425 , 11276.06666039,  6163.3563212 ,\n",
       "       39480.98014961,  4353.94385797, 12118.55416147,  2574.4026773 ,\n",
       "       15617.73384002, 33592.37643772,  6521.85900012,  6677.30600909,\n",
       "        5123.6870726 ,  8530.11653832,  5645.09823952, 39646.02644066,\n",
       "        3058.8402693 ,  2069.80709217,  9754.94744729,  9241.10859865,\n",
       "       20338.8187568 , 36733.74606188, 39746.57967626, 12321.53633117,\n",
       "        2038.02713098,  8457.89333556,  4811.00778394,  4237.58890561,\n",
       "        8778.43541464,  5812.30563135,  7973.83736562,  6717.74942478,\n",
       "       14000.54694744, 11907.6221087 , 12686.10922112,  4186.20793763,\n",
       "        6437.01597218,  5176.7462574 ,  7972.50406615, 13721.50282309,\n",
       "       19171.48020106,  5748.82086246,  9264.85460097,  1956.92528664,\n",
       "        2321.48097147,  5012.57429207, 12130.16756605, 36324.92633847,\n",
       "       36037.55174035,  1963.59448694,  6692.70828439,  7858.65180749,\n",
       "        4262.57490903,  8571.03925969,  8769.19151623,  8216.49944944,\n",
       "        1887.08358141, 10743.53008955, 23380.06902686, 20284.47005615,\n",
       "       11835.97774781, 24733.47986349,  9642.85169743,  4608.32345001,\n",
       "        2099.59094229,  1425.22803064,  6626.60373975,  8296.15708717,\n",
       "        4570.9935957 ,  8551.62803619,  4205.49385358,  7196.76499252,\n",
       "       11927.3273121 ,  7993.21002528,  1432.98595798, 14272.26768463,\n",
       "        8192.43125658,  7150.48564835,  8682.46666321,  5830.84599261,\n",
       "       26324.34040373,  4171.86185376, 14441.02868919,  6902.77401686,\n",
       "        4997.66632062, 14000.54694744,  8155.88441202, 31653.1643188 ,\n",
       "        5419.74956027,  9792.63240568,  1527.69405581, 10238.73141212,\n",
       "       11337.4307247 , 25064.7288044 ,  1896.97301125,  6231.4275502 ,\n",
       "       13782.36305619,  5025.84911427,  6628.18879813,  6274.01499756,\n",
       "       11356.01528048, 13972.70775888,  4921.41547097, 13670.22889891,\n",
       "        4604.63093263, 35407.55485641,  4821.45042347, 12979.13443438,\n",
       "        3931.33663337,  3427.02555547,  6368.47205227, 36633.00283303,\n",
       "       15476.20764351,  4923.10178231,  3082.12695561,  3073.94440069,\n",
       "       12023.6359745 ,  3068.83743574, 37459.0266763 , 12748.27544827,\n",
       "       12614.4728738 , 11102.64991905,  7105.71693876, 13100.41111498,\n",
       "        2170.03858301, 36825.73257155, 36239.55213807,  1441.55213252,\n",
       "       11032.19160578,  2051.10549371, 18226.89700449,  3001.48938281,\n",
       "        5496.81418948,  2005.17055254, 20865.24162146,  9669.12673161,\n",
       "       16897.04936383,  8833.8221769 ,  3893.54026025, 30352.48502834,\n",
       "       17416.0791326 , 10200.29124737,  9116.29524609,  5579.05689588,\n",
       "        8953.20965578,  5615.93748558,  1891.29865955,  4463.48420085,\n",
       "       13384.19896617, 17904.61340805, 36174.73383258,  1914.98951336,\n",
       "        8837.75000835, 12274.2290584 ,  3085.48544147, 13389.8320419 ,\n",
       "        4861.87281686,  2836.4385016 ,  5805.93682637, 51036.23734884,\n",
       "       19899.45495485, 49784.24675265, 10587.05188607, 31937.41072239,\n",
       "       34686.47529475, 11064.02201249, 10667.01102404, 10420.05471922,\n",
       "        8819.29636907, 16280.31660632, 10190.70040647, 11521.03988665,\n",
       "        1915.75951508,  4476.78838508, 11892.21697223, 14852.84509007,\n",
       "       40780.98167509,  4884.02280546,  7033.88049333,  9018.50208017,\n",
       "       11707.62980254,  5394.85295789, 12420.00802565,  1911.17231427,\n",
       "        2468.80385741,  3133.06321748, 14013.58388307, 12628.85915972,\n",
       "       12934.94718051, 35023.25562863,  8803.18558641, 11493.97399615,\n",
       "       38179.25573305,  5582.09787346,  2321.65523775, 27314.18639692,\n",
       "       11489.69308417, 42699.65393121, 12684.4520053 , 10775.25463738,\n",
       "       43016.5737621 , 16646.62439766, 11144.11430751,  9727.36635313,\n",
       "        4889.03671585, 16569.23232692,  3296.96555208,  2284.4416182 ,\n",
       "       37139.14498316, 11795.18242309,  8596.91733433, 12921.92311909,\n",
       "        2671.9230398 ,  5091.33372563,  8200.22972467, 36375.25584128,\n",
       "        6763.44405849,  5012.12684738, 45150.74005046, 42009.24855707,\n",
       "        2675.00880148, 11506.30291417,  2074.3586735 ,  8836.06213356,\n",
       "        5658.17527567,  3275.54908797,  2358.1289271 ,  6392.80487474,\n",
       "       39316.34978235,  3725.96673502,  3538.15264278,  2659.59643367,\n",
       "        8705.4217559 , 40197.81053306, 13238.60129767])"
      ]
     },
     "execution_count": 150,
     "metadata": {},
     "output_type": "execute_result"
    }
   ],
   "source": [
    "#Make the prediction on the test data\n",
    "gradient_pred=gbr.predict(X_test)\n",
    "#Prediction\n",
    "gradient_pred"
   ]
  },
  {
   "cell_type": "code",
   "execution_count": 151,
   "id": "97d12071",
   "metadata": {
    "tags": []
   },
   "outputs": [
    {
     "name": "stdout",
     "output_type": "stream",
     "text": [
      "The gradientboosting regression model test score is 88.15\n",
      "The gradientboosting regression model train score is 85.12\n"
     ]
    }
   ],
   "source": [
    "#Let's print the test score is for the gradientboosting regression model\n",
    "print(f'The gradientboosting regression model test score is {gbr.score(X_test,y_test)*100:.2f}')\n",
    "#Print the train score for gradientboosting regression model\n",
    "print(f'The gradientboosting regression model train score is {gbr.score(X_train,y_train)*100:.2f}')"
   ]
  },
  {
   "cell_type": "code",
   "execution_count": 152,
   "id": "06ac75ca",
   "metadata": {
    "tags": []
   },
   "outputs": [
    {
     "name": "stdout",
     "output_type": "stream",
     "text": [
      "The mean_squard_error is 15697340.652661877\n",
      "The mean_squard_error is 0.8815220629702396\n"
     ]
    }
   ],
   "source": [
    "#Let's check the mean_squard_error and r2 score\n",
    "print(f'The mean_squard_error is {mean_squared_error(y_test,gradient_pred)}')\n",
    "#print the r2_score\n",
    "print(f'The mean_squard_error is {r2_score(y_test,gradient_pred)}')"
   ]
  },
  {
   "cell_type": "markdown",
   "id": "d7f4aea7",
   "metadata": {},
   "source": [
    "# The final output"
   ]
  },
  {
   "cell_type": "code",
   "execution_count": 153,
   "id": "299f3024",
   "metadata": {
    "tags": []
   },
   "outputs": [
    {
     "name": "stdout",
     "output_type": "stream",
     "text": [
      "The linear regression model test score is -38.20\n",
      "The linear regression model train score is -47.63\n",
      "The mean_squard_error is 183098224.38224196\n",
      "The mean_squard_error is -0.381960191769273\n",
      "The decisiontree regression model test score is 73.82\n",
      "The decisiontree regression model train score is 96.59\n",
      "The mean_squard_error is 34682493.073962525\n",
      "The mean_squard_error is 0.7382288935829884\n",
      "The decisiontree regression model test score is 84.47\n",
      "The decisiontree regression model train score is 97.59\n",
      "The mean_squard_error is 20578917.55061899\n",
      "The mean_squard_error is 0.8446776589963715\n",
      "The xgboost regression model test score is 84.92\n",
      "The xgboost regression model train score is 93.72\n",
      "The mean_squard_error is 19983952.658724215\n",
      "The mean_squard_error is 0.8491682421184797\n",
      "The gradientboosting regression model test score is 88.15\n",
      "The gradientboosting regression model train score is 85.12\n",
      "The mean_squard_error is 15697340.652661877\n",
      "The mean_squard_error is 0.8815220629702396\n"
     ]
    }
   ],
   "source": [
    "#Let's prnt the test score is for the linear regression model\n",
    "print(f'The linear regression model test score is {linear.score(X_test,y_test)*100:.2f}')\n",
    "#Print the train score for linear regression model\n",
    "print(f'The linear regression model train score is {linear.score(X_train,y_train)*100:.2f}')\n",
    "#Let's check the mean_squard_error and r2 score\n",
    "print(f'The mean_squard_error is {mean_squared_error(y_test,y_pred)}')\n",
    "#print the r2_score\n",
    "print(f'The mean_squard_error is {r2_score(y_test,y_pred)}')\n",
    "#Let's prnt the test score is for the decisiontree regression model\n",
    "print(f'The decisiontree regression model test score is {tree.score(X_test,y_test)*100:.2f}')\n",
    "#Print the train score for decisiontree regression model\n",
    "print(f'The decisiontree regression model train score is {tree.score(X_train,y_train)*100:.2f}')\n",
    "#Let's check the mean_squard_error and r2 score\n",
    "print(f'The mean_squard_error is {mean_squared_error(y_test,tree_pred)}')\n",
    "#print the r2_score\n",
    "print(f'The mean_squard_error is {r2_score(y_test,tree_pred)}')\n",
    "#Let's prnt the test score is for the decisiontree regression model\n",
    "print(f'The decisiontree regression model test score is {random.score(X_test,y_test)*100:.2f}')\n",
    "#Print the train score for decisiontree regression model\n",
    "print(f'The decisiontree regression model train score is {random.score(X_train,y_train)*100:.2f}')\n",
    "#Let's check the mean_squard_error and r2 score\n",
    "print(f'The mean_squard_error is {mean_squared_error(y_test,random_pred)}')\n",
    "#print the r2_score\n",
    "print(f'The mean_squard_error is {r2_score(y_test,random_pred)}')\n",
    "#Let's prnt the test score is for the xgboost regression model\n",
    "print(f'The xgboost regression model test score is {xgboost.score(X_test,y_test)*100:.2f}')\n",
    "#Print the train score for xgboost regression model\n",
    "print(f'The xgboost regression model train score is {xgboost.score(X_train,y_train)*100:.2f}')\n",
    "#Let's check the mean_squard_error and r2 score\n",
    "print(f'The mean_squard_error is {mean_squared_error(y_test,xgboost_pred)}')\n",
    "#print the r2_score\n",
    "print(f'The mean_squard_error is {r2_score(y_test,xgboost_pred)}')\n",
    "#Let's print the test score is for the gradientboosting regression model\n",
    "print(f'The gradientboosting regression model test score is {gbr.score(X_test,y_test)*100:.2f}')\n",
    "#Print the train score for gradientboosting regression model\n",
    "print(f'The gradientboosting regression model train score is {gbr.score(X_train,y_train)*100:.2f}')\n",
    "#Let's check the mean_squard_error and r2 score\n",
    "print(f'The mean_squard_error is {mean_squared_error(y_test,gradient_pred)}')\n",
    "#print the r2_score\n",
    "print(f'The mean_squard_error is {r2_score(y_test,gradient_pred)}')"
   ]
  },
  {
   "cell_type": "code",
   "execution_count": 154,
   "id": "144c2b4d",
   "metadata": {
    "tags": []
   },
   "outputs": [],
   "source": [
    "pickle.dump(gbr,open('final_model.pkl','wb'))"
   ]
  },
  {
   "cell_type": "raw",
   "id": "2349ef92",
   "metadata": {},
   "source": [
    "Finaly we get 88% accuracy_Score to the gradientboosting model and we predict the insurance charges.To predict the insurance charges using the various factor such as age,bmi,gender,children,region and we predict the charges."
   ]
  },
  {
   "cell_type": "markdown",
   "id": "c9551778",
   "metadata": {},
   "source": [
    "# Thank you"
   ]
  },
  {
   "cell_type": "code",
   "execution_count": null,
   "id": "a329a92e",
   "metadata": {},
   "outputs": [],
   "source": []
  },
  {
   "cell_type": "code",
   "execution_count": null,
   "id": "6aba8003-14e5-435b-b53a-c55dd6bdf383",
   "metadata": {},
   "outputs": [],
   "source": []
  }
 ],
 "metadata": {
  "kernelspec": {
   "display_name": "Python 3 (ipykernel)",
   "language": "python",
   "name": "python3"
  },
  "language_info": {
   "codemirror_mode": {
    "name": "ipython",
    "version": 3
   },
   "file_extension": ".py",
   "mimetype": "text/x-python",
   "name": "python",
   "nbconvert_exporter": "python",
   "pygments_lexer": "ipython3",
   "version": "3.11.7"
  },
  "vscode": {
   "interpreter": {
    "hash": "97cc609b13305c559618ec78a438abc56230b9381f827f22d070313b9a1f3777"
   }
  }
 },
 "nbformat": 4,
 "nbformat_minor": 5
}
